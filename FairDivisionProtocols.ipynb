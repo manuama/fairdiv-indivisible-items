{
 "cells": [
  {
   "cell_type": "markdown",
   "metadata": {},
   "source": [
    "# Some Protocols for Fair Division"
   ]
  },
  {
   "cell_type": "code",
   "execution_count": 5,
   "metadata": {},
   "outputs": [],
   "source": [
    "from problem import Problem\n",
    "import fairness_measures\n",
    "import simulations"
   ]
  },
  {
   "cell_type": "code",
   "execution_count": 6,
   "metadata": {},
   "outputs": [],
   "source": [
    "import simulations_edit\n",
    "import fairness_measures_edit"
   ]
  },
  {
   "cell_type": "markdown",
   "metadata": {},
   "source": [
    "Several protocols have been implemented. They can be accessed by importing the module protocols. "
   ]
  },
  {
   "cell_type": "code",
   "execution_count": 7,
   "metadata": {},
   "outputs": [],
   "source": [
    "import protocols"
   ]
  },
  {
   "cell_type": "code",
   "execution_count": 8,
   "metadata": {},
   "outputs": [],
   "source": [
    "import numpy as np\n",
    "import matplotlib.pyplot as plt"
   ]
  },
  {
   "cell_type": "markdown",
   "metadata": {},
   "source": [
    "## 4.1 Adjusted Winner"
   ]
  },
  {
   "cell_type": "code",
   "execution_count": 9,
   "metadata": {},
   "outputs": [
    {
     "name": "stdout",
     "output_type": "stream",
     "text": [
      "agent 1{'r0': 0.248, 'r1': 0.028, 'r2': 0.372, 'r3': 0.352}\n",
      "agent 2{'r0': 0.305, 'r1': 0.216, 'r2': 0.29, 'r3': 0.189}\n",
      "\n"
     ]
    }
   ],
   "source": [
    "p1 = Problem(3,4,'normalized',centralized=True)\n",
    "print(p1)"
   ]
  },
  {
   "cell_type": "markdown",
   "metadata": {},
   "source": [
    "Calcul du ratio $u_h(r)/u_l(r)$ pour chaque objet $r$ que l'on pourrait transférer du *riche* au *pauvre*."
   ]
  },
  {
   "cell_type": "code",
   "execution_count": 10,
   "metadata": {},
   "outputs": [
    {
     "name": "stdout",
     "output_type": "stream",
     "text": [
      "Output allocation phase:\n",
      "auctioneer                                  []\t\n",
      "agent  1                       ['r2', 'r3']\t0.724\n",
      "agent  2                       ['r0', 'r1']\t0.521\n",
      "\n",
      "[(1.283, 'r2'), (1.862, 'r3')]\n",
      "Resource  r2  will be splitted!\n",
      "Agent  2  gets  0.307  of resource  r2\n",
      "Both agents get utility: 0.6100300000000001\n"
     ]
    },
    {
     "data": {
      "text/plain": [
       "(0.6100300000000001, 'r2', 2, 0.3066465256797583)"
      ]
     },
     "execution_count": 10,
     "metadata": {},
     "output_type": "execute_result"
    }
   ],
   "source": [
    "protocols.adjustedWinner(p1,verbose=True)"
   ]
  },
  {
   "cell_type": "markdown",
   "metadata": {},
   "source": [
    "Make sure that you understand exactly why items are allocated this way. "
   ]
  },
  {
   "cell_type": "markdown",
   "metadata": {},
   "source": [
    "### Manipulating Adjusted Winner"
   ]
  },
  {
   "cell_type": "code",
   "execution_count": 11,
   "metadata": {},
   "outputs": [
    {
     "name": "stdout",
     "output_type": "stream",
     "text": [
      "agent 1{'r0': 75, 'r1': 25}\n",
      "agent 2{'r0': 25, 'r1': 75}\n",
      "\n"
     ]
    }
   ],
   "source": [
    "p2 = Problem(3,2,'uniform',centralized=True)\n",
    "p2.setUtilities(\n",
    "[{'r0':0,'r1':0},\\\n",
    "{'r0':75,'r1':25},\\\n",
    "{'r0':25,'r1':75}]\n",
    ")\n",
    "print (p2)"
   ]
  },
  {
   "cell_type": "markdown",
   "metadata": {},
   "source": [
    "In that case, the output of the adjusted winner protocol is rather obvious. Each agent gets its preferred item and everyone enjoys the same utility. "
   ]
  },
  {
   "cell_type": "code",
   "execution_count": 12,
   "metadata": {},
   "outputs": [
    {
     "name": "stdout",
     "output_type": "stream",
     "text": [
      "Output allocation phase:\n",
      "auctioneer                                  []\t\n",
      "agent  1                             ['r0']\t75\n",
      "agent  2                             ['r1']\t75\n",
      "\n",
      "[(3.0, 'r1')]\n"
     ]
    },
    {
     "data": {
      "text/plain": [
       "(75, 'r1', 1, 0)"
      ]
     },
     "execution_count": 12,
     "metadata": {},
     "output_type": "execute_result"
    }
   ],
   "source": [
    "protocols.adjustedWinner(p2,verbose=True)"
   ]
  },
  {
   "cell_type": "markdown",
   "metadata": {},
   "source": [
    "Dans ce cas, les deux agents ont la même utilité **75** sans avoir à se partager un objet. \\\n",
    "(**75** : utilité de chaque agent, **1** : agent 1, **0** : optient 0% de la ressource de l'agent 2)"
   ]
  },
  {
   "cell_type": "markdown",
   "metadata": {},
   "source": [
    "But can you find a **manipulation** for agent 1, that is, a way to misrepresent the preferences of the agent (in other words, announce a valuation for an item which differs from the real one) such that the utility is in reality higher? \n",
    "Note that you will need to compute the allocation with the **declared** preferences, but that the actual utility enjoyed by agents must be computed with their **true** preferences. "
   ]
  },
  {
   "cell_type": "markdown",
   "metadata": {},
   "source": [
    "**Manipulation of agent 1 to improve his allocation**"
   ]
  },
  {
   "cell_type": "code",
   "execution_count": 13,
   "metadata": {},
   "outputs": [
    {
     "name": "stdout",
     "output_type": "stream",
     "text": [
      "agent 1{'r0': 26, 'r1': 74}\n",
      "agent 2{'r0': 25, 'r1': 75}\n",
      "\n"
     ]
    }
   ],
   "source": [
    "manip_util = [{'r0':0,'r1':0},\\\n",
    "{'r0':26,'r1':74},\\\n",
    "{'r0':25,'r1':75}]\n",
    "\n",
    "p2_manip = Problem(3,2,'uniform',centralized=True)\n",
    "p2_manip.setUtilities(manip_util)\n",
    "print(p2_manip)"
   ]
  },
  {
   "cell_type": "markdown",
   "metadata": {},
   "source": [
    "La ressource $r_0$ est allouée à l'agent 1 et la ressource $r_1$ à l'agent 2.\\\n",
    "\\\n",
    "Il faut diviser la ressource $r1$ entre l'agent *pauvre* ($a_1$) et l'agent *riche* ($a_2$)  :\n",
    "$ 26 + 74*p = (1-p) * 75 $"
   ]
  },
  {
   "cell_type": "code",
   "execution_count": 14,
   "metadata": {},
   "outputs": [
    {
     "name": "stdout",
     "output_type": "stream",
     "text": [
      "Output allocation phase:\n",
      "auctioneer                                  []\t\n",
      "agent  1                             ['r0']\t26\n",
      "agent  2                             ['r1']\t75\n",
      "\n",
      "[(1.014, 'r1')]\n",
      "Resource  r1  will be splitted!\n",
      "Agent  1  gets  0.329  of resource  r1\n",
      "Both agents get utility: 50.346000000000004\n"
     ]
    },
    {
     "data": {
      "text/plain": [
       "(50.346000000000004, 'r1', 1, 0.3288590604026846)"
      ]
     },
     "execution_count": 14,
     "metadata": {},
     "output_type": "execute_result"
    }
   ],
   "source": [
    "protocols.adjustedWinner(p2_manip,verbose=True)"
   ]
  },
  {
   "cell_type": "markdown",
   "metadata": {},
   "source": [
    "Dans ce cas, les deux agents auront chacun une utilité de 50.35, après que l'agent 1 est mentit sur ses préférences.\\\n",
    "Si on applique cette répartition de la ressource $r1$ sur les vraies utilités annoncées au départ par nos agents, l'utilité finale sera plus haute pour l'agent 1 qui aura mentit."
   ]
  },
  {
   "cell_type": "code",
   "execution_count": 15,
   "metadata": {},
   "outputs": [
    {
     "name": "stdout",
     "output_type": "stream",
     "text": [
      "Utilité finale de chacun des agents a\n",
      "a1 : 83.225\n",
      "a2 : 50.325\n"
     ]
    }
   ],
   "source": [
    "print(\"Utilité finale de chacun des agents a\")\n",
    "print(\"a1 : \" + str(round(75 + 0.329 * 25, 3)))\n",
    "print(\"a2 : \" + str(round((1-0.329)*75, 3)))"
   ]
  },
  {
   "cell_type": "markdown",
   "metadata": {},
   "source": [
    "What is the \"best\" manipulation that agent 1 can do? \n",
    "To evaluate this, it will be useful to run a script trying all the different values possibly announced by agent 1, and to plot the utility obtained with each of these. "
   ]
  },
  {
   "cell_type": "code",
   "execution_count": 16,
   "metadata": {},
   "outputs": [],
   "source": [
    "def total_score(div_):\n",
    "    return round(75 + div_*25, 3)"
   ]
  },
  {
   "cell_type": "code",
   "execution_count": 17,
   "metadata": {},
   "outputs": [
    {
     "name": "stdout",
     "output_type": "stream",
     "text": [
      "Repartition des ressources : \n",
      "Output allocation phase:\n",
      "auctioneer                                  []\t\n",
      "agent  1                             ['r1']\t99\n",
      "agent  2                             ['r0']\t25\n",
      "\n",
      "[(1.32, 'r1')]\n",
      "Resource  r1  will be splitted!\n",
      "Agent  2  gets  0.425  of resource  r1\n",
      "Both agents get utility: 56.875\n",
      "\n",
      "L'agent 2 est pauvre.\n",
      "L'agent 1 doit donner 0.42528735632183906 de r1 à l'agent 2\n",
      "True utility get by agent 1 after lying on his preferences : \n",
      "14.368\n",
      "\n",
      "Repartition des ressources : \n",
      "Output allocation phase:\n",
      "auctioneer                                  []\t\n",
      "agent  1                             ['r1']\t98\n",
      "agent  2                             ['r0']\t25\n",
      "\n",
      "[(1.307, 'r1')]\n",
      "Resource  r1  will be splitted!\n",
      "Agent  2  gets  0.422  of resource  r1\n",
      "Both agents get utility: 56.65\n",
      "\n",
      "L'agent 2 est pauvre.\n",
      "L'agent 1 doit donner 0.42196531791907516 de r1 à l'agent 2\n",
      "True utility get by agent 1 after lying on his preferences : \n",
      "14.451\n",
      "\n",
      "Repartition des ressources : \n",
      "Output allocation phase:\n",
      "auctioneer                                  []\t\n",
      "agent  1                             ['r1']\t97\n",
      "agent  2                             ['r0']\t25\n",
      "\n",
      "[(1.293, 'r1')]\n",
      "Resource  r1  will be splitted!\n",
      "Agent  2  gets  0.419  of resource  r1\n",
      "Both agents get utility: 56.425\n",
      "\n",
      "L'agent 2 est pauvre.\n",
      "L'agent 1 doit donner 0.4186046511627907 de r1 à l'agent 2\n",
      "True utility get by agent 1 after lying on his preferences : \n",
      "14.535\n",
      "\n",
      "Repartition des ressources : \n",
      "Output allocation phase:\n",
      "auctioneer                                  []\t\n",
      "agent  1                             ['r1']\t96\n",
      "agent  2                             ['r0']\t25\n",
      "\n",
      "[(1.28, 'r1')]\n",
      "Resource  r1  will be splitted!\n",
      "Agent  2  gets  0.415  of resource  r1\n",
      "Both agents get utility: 56.125\n",
      "\n",
      "L'agent 2 est pauvre.\n",
      "L'agent 1 doit donner 0.4152046783625731 de r1 à l'agent 2\n",
      "True utility get by agent 1 after lying on his preferences : \n",
      "14.62\n",
      "\n",
      "Repartition des ressources : \n",
      "Output allocation phase:\n",
      "auctioneer                                  []\t\n",
      "agent  1                             ['r1']\t95\n",
      "agent  2                             ['r0']\t25\n",
      "\n",
      "[(1.267, 'r1')]\n",
      "Resource  r1  will be splitted!\n",
      "Agent  2  gets  0.412  of resource  r1\n",
      "Both agents get utility: 55.9\n",
      "\n",
      "L'agent 2 est pauvre.\n",
      "L'agent 1 doit donner 0.4117647058823529 de r1 à l'agent 2\n",
      "True utility get by agent 1 after lying on his preferences : \n",
      "14.706\n",
      "\n",
      "Repartition des ressources : \n",
      "Output allocation phase:\n",
      "auctioneer                                  []\t\n",
      "agent  1                             ['r1']\t94\n",
      "agent  2                             ['r0']\t25\n",
      "\n",
      "[(1.253, 'r1')]\n",
      "Resource  r1  will be splitted!\n",
      "Agent  2  gets  0.408  of resource  r1\n",
      "Both agents get utility: 55.599999999999994\n",
      "\n",
      "L'agent 2 est pauvre.\n",
      "L'agent 1 doit donner 0.40828402366863903 de r1 à l'agent 2\n",
      "True utility get by agent 1 after lying on his preferences : \n",
      "14.793\n",
      "\n",
      "Repartition des ressources : \n",
      "Output allocation phase:\n",
      "auctioneer                                  []\t\n",
      "agent  1                             ['r1']\t93\n",
      "agent  2                             ['r0']\t25\n",
      "\n",
      "[(1.24, 'r1')]\n",
      "Resource  r1  will be splitted!\n",
      "Agent  2  gets  0.405  of resource  r1\n",
      "Both agents get utility: 55.375\n",
      "\n",
      "L'agent 2 est pauvre.\n",
      "L'agent 1 doit donner 0.40476190476190477 de r1 à l'agent 2\n",
      "True utility get by agent 1 after lying on his preferences : \n",
      "14.881\n",
      "\n",
      "Repartition des ressources : \n",
      "Output allocation phase:\n",
      "auctioneer                                  []\t\n",
      "agent  1                             ['r1']\t92\n",
      "agent  2                             ['r0']\t25\n",
      "\n",
      "[(1.227, 'r1')]\n",
      "Resource  r1  will be splitted!\n",
      "Agent  2  gets  0.401  of resource  r1\n",
      "Both agents get utility: 55.075\n",
      "\n",
      "L'agent 2 est pauvre.\n",
      "L'agent 1 doit donner 0.40119760479041916 de r1 à l'agent 2\n",
      "True utility get by agent 1 after lying on his preferences : \n",
      "14.97\n",
      "\n",
      "Repartition des ressources : \n",
      "Output allocation phase:\n",
      "auctioneer                                  []\t\n",
      "agent  1                             ['r1']\t91\n",
      "agent  2                             ['r0']\t25\n",
      "\n",
      "[(1.213, 'r1')]\n",
      "Resource  r1  will be splitted!\n",
      "Agent  2  gets  0.398  of resource  r1\n",
      "Both agents get utility: 54.85\n",
      "\n",
      "L'agent 2 est pauvre.\n",
      "L'agent 1 doit donner 0.39759036144578314 de r1 à l'agent 2\n",
      "True utility get by agent 1 after lying on his preferences : \n",
      "15.06\n",
      "\n",
      "Repartition des ressources : \n",
      "Output allocation phase:\n",
      "auctioneer                                  []\t\n",
      "agent  1                             ['r1']\t90\n",
      "agent  2                             ['r0']\t25\n",
      "\n",
      "[(1.2, 'r1')]\n",
      "Resource  r1  will be splitted!\n",
      "Agent  2  gets  0.394  of resource  r1\n",
      "Both agents get utility: 54.55\n",
      "\n",
      "L'agent 2 est pauvre.\n",
      "L'agent 1 doit donner 0.3939393939393939 de r1 à l'agent 2\n",
      "True utility get by agent 1 after lying on his preferences : \n",
      "15.152\n",
      "\n",
      "Repartition des ressources : \n",
      "Output allocation phase:\n",
      "auctioneer                                  []\t\n",
      "agent  1                             ['r1']\t89\n",
      "agent  2                             ['r0']\t25\n",
      "\n",
      "[(1.187, 'r1')]\n",
      "Resource  r1  will be splitted!\n",
      "Agent  2  gets  0.39  of resource  r1\n",
      "Both agents get utility: 54.25\n",
      "\n",
      "L'agent 2 est pauvre.\n",
      "L'agent 1 doit donner 0.3902439024390244 de r1 à l'agent 2\n",
      "True utility get by agent 1 after lying on his preferences : \n",
      "15.244\n",
      "\n",
      "Repartition des ressources : \n",
      "Output allocation phase:\n",
      "auctioneer                                  []\t\n",
      "agent  1                             ['r1']\t88\n",
      "agent  2                             ['r0']\t25\n",
      "\n",
      "[(1.173, 'r1')]\n",
      "Resource  r1  will be splitted!\n",
      "Agent  2  gets  0.387  of resource  r1\n",
      "Both agents get utility: 54.025000000000006\n",
      "\n",
      "L'agent 2 est pauvre.\n",
      "L'agent 1 doit donner 0.38650306748466257 de r1 à l'agent 2\n",
      "True utility get by agent 1 after lying on his preferences : \n",
      "15.337\n",
      "\n",
      "Repartition des ressources : \n",
      "Output allocation phase:\n",
      "auctioneer                                  []\t\n",
      "agent  1                             ['r1']\t87\n",
      "agent  2                             ['r0']\t25\n",
      "\n",
      "[(1.16, 'r1')]\n",
      "Resource  r1  will be splitted!\n",
      "Agent  2  gets  0.383  of resource  r1\n",
      "Both agents get utility: 53.725\n",
      "\n",
      "L'agent 2 est pauvre.\n",
      "L'agent 1 doit donner 0.38271604938271603 de r1 à l'agent 2\n",
      "True utility get by agent 1 after lying on his preferences : \n",
      "15.432\n",
      "\n",
      "Repartition des ressources : \n",
      "Output allocation phase:\n",
      "auctioneer                                  []\t\n",
      "agent  1                             ['r1']\t86\n",
      "agent  2                             ['r0']\t25\n",
      "\n",
      "[(1.147, 'r1')]\n",
      "Resource  r1  will be splitted!\n",
      "Agent  2  gets  0.379  of resource  r1\n",
      "Both agents get utility: 53.425\n",
      "\n",
      "L'agent 2 est pauvre.\n",
      "L'agent 1 doit donner 0.37888198757763975 de r1 à l'agent 2\n",
      "True utility get by agent 1 after lying on his preferences : \n",
      "15.528\n",
      "\n",
      "Repartition des ressources : \n",
      "Output allocation phase:\n",
      "auctioneer                                  []\t\n",
      "agent  1                             ['r1']\t85\n",
      "agent  2                             ['r0']\t25\n",
      "\n",
      "[(1.133, 'r1')]\n",
      "Resource  r1  will be splitted!\n",
      "Agent  2  gets  0.375  of resource  r1\n",
      "Both agents get utility: 53.125\n",
      "\n",
      "L'agent 2 est pauvre.\n",
      "L'agent 1 doit donner 0.375 de r1 à l'agent 2\n",
      "True utility get by agent 1 after lying on his preferences : \n",
      "15.625\n",
      "\n",
      "Repartition des ressources : \n",
      "Output allocation phase:\n",
      "auctioneer                                  []\t\n",
      "agent  1                             ['r1']\t84\n",
      "agent  2                             ['r0']\t25\n",
      "\n",
      "[(1.12, 'r1')]\n",
      "Resource  r1  will be splitted!\n",
      "Agent  2  gets  0.371  of resource  r1\n",
      "Both agents get utility: 52.825\n",
      "\n",
      "L'agent 2 est pauvre.\n",
      "L'agent 1 doit donner 0.3710691823899371 de r1 à l'agent 2\n",
      "True utility get by agent 1 after lying on his preferences : \n",
      "15.723\n",
      "\n",
      "Repartition des ressources : \n",
      "Output allocation phase:\n",
      "auctioneer                                  []\t\n",
      "agent  1                             ['r1']\t83\n",
      "agent  2                             ['r0']\t25\n",
      "\n",
      "[(1.107, 'r1')]\n",
      "Resource  r1  will be splitted!\n",
      "Agent  2  gets  0.367  of resource  r1\n",
      "Both agents get utility: 52.525\n",
      "\n",
      "L'agent 2 est pauvre.\n",
      "L'agent 1 doit donner 0.3670886075949367 de r1 à l'agent 2\n",
      "True utility get by agent 1 after lying on his preferences : \n",
      "15.823\n",
      "\n",
      "Repartition des ressources : \n",
      "Output allocation phase:\n",
      "auctioneer                                  []\t\n",
      "agent  1                             ['r1']\t82\n",
      "agent  2                             ['r0']\t25\n",
      "\n",
      "[(1.093, 'r1')]\n",
      "Resource  r1  will be splitted!\n",
      "Agent  2  gets  0.363  of resource  r1\n",
      "Both agents get utility: 52.224999999999994\n",
      "\n",
      "L'agent 2 est pauvre.\n",
      "L'agent 1 doit donner 0.3630573248407643 de r1 à l'agent 2\n",
      "True utility get by agent 1 after lying on his preferences : \n",
      "15.924\n",
      "\n",
      "Repartition des ressources : \n",
      "Output allocation phase:\n",
      "auctioneer                                  []\t\n",
      "agent  1                             ['r1']\t81\n",
      "agent  2                             ['r0']\t25\n",
      "\n",
      "[(1.08, 'r1')]\n",
      "Resource  r1  will be splitted!\n",
      "Agent  2  gets  0.359  of resource  r1\n",
      "Both agents get utility: 51.925\n",
      "\n",
      "L'agent 2 est pauvre.\n",
      "L'agent 1 doit donner 0.358974358974359 de r1 à l'agent 2\n",
      "True utility get by agent 1 after lying on his preferences : \n",
      "16.026\n",
      "\n",
      "Repartition des ressources : \n",
      "Output allocation phase:\n",
      "auctioneer                                  []\t\n",
      "agent  1                             ['r1']\t80\n",
      "agent  2                             ['r0']\t25\n",
      "\n",
      "[(1.067, 'r1')]\n",
      "Resource  r1  will be splitted!\n",
      "Agent  2  gets  0.355  of resource  r1\n",
      "Both agents get utility: 51.625\n",
      "\n",
      "L'agent 2 est pauvre.\n",
      "L'agent 1 doit donner 0.3548387096774194 de r1 à l'agent 2\n",
      "True utility get by agent 1 after lying on his preferences : \n",
      "16.129\n",
      "\n",
      "Repartition des ressources : \n",
      "Output allocation phase:\n",
      "auctioneer                                  []\t\n",
      "agent  1                             ['r1']\t79\n",
      "agent  2                             ['r0']\t25\n",
      "\n",
      "[(1.053, 'r1')]\n",
      "Resource  r1  will be splitted!\n",
      "Agent  2  gets  0.351  of resource  r1\n",
      "Both agents get utility: 51.325\n",
      "\n",
      "L'agent 2 est pauvre.\n",
      "L'agent 1 doit donner 0.35064935064935066 de r1 à l'agent 2\n",
      "True utility get by agent 1 after lying on his preferences : \n",
      "16.234\n",
      "\n",
      "Repartition des ressources : \n",
      "Output allocation phase:\n",
      "auctioneer                                  []\t\n",
      "agent  1                             ['r1']\t78\n",
      "agent  2                             ['r0']\t25\n",
      "\n",
      "[(1.04, 'r1')]\n",
      "Resource  r1  will be splitted!\n",
      "Agent  2  gets  0.346  of resource  r1\n",
      "Both agents get utility: 50.95\n",
      "\n",
      "L'agent 2 est pauvre.\n",
      "L'agent 1 doit donner 0.3464052287581699 de r1 à l'agent 2\n",
      "True utility get by agent 1 after lying on his preferences : \n",
      "16.34\n",
      "\n",
      "Repartition des ressources : \n",
      "Output allocation phase:\n",
      "auctioneer                                  []\t\n",
      "agent  1                             ['r1']\t77\n",
      "agent  2                             ['r0']\t25\n",
      "\n",
      "[(1.027, 'r1')]\n",
      "Resource  r1  will be splitted!\n",
      "Agent  2  gets  0.342  of resource  r1\n",
      "Both agents get utility: 50.650000000000006\n",
      "\n",
      "L'agent 2 est pauvre.\n",
      "L'agent 1 doit donner 0.34210526315789475 de r1 à l'agent 2\n",
      "True utility get by agent 1 after lying on his preferences : \n",
      "16.447\n",
      "\n",
      "Repartition des ressources : \n",
      "Output allocation phase:\n",
      "auctioneer                                  []\t\n",
      "agent  1                             ['r1']\t76\n",
      "agent  2                             ['r0']\t25\n",
      "\n",
      "[(1.013, 'r1')]\n",
      "Resource  r1  will be splitted!\n",
      "Agent  2  gets  0.338  of resource  r1\n",
      "Both agents get utility: 50.35\n",
      "\n",
      "L'agent 2 est pauvre.\n",
      "L'agent 1 doit donner 0.33774834437086093 de r1 à l'agent 2\n",
      "True utility get by agent 1 after lying on his preferences : \n",
      "16.556\n",
      "\n",
      "Repartition des ressources : \n",
      "Output allocation phase:\n",
      "auctioneer                                  []\t\n",
      "agent  1                                 []\t 0\n",
      "agent  2                       ['r0', 'r1']\t100\n",
      "\n",
      "[(1.0, 'r0'), (1.0, 'r1')]\n",
      "Resource  r0  moves from  2  to  1\n",
      "Resource  r1  will be splitted!\n",
      "Agent  1  gets  0.333  of resource  r1\n",
      "Both agents get utility: 49.975\n",
      "\n",
      "L'agent 1 est pauvre.\n",
      "L'agent 2 doit donner 0.3333333333333333 de r1 à l'agent 2\n",
      "True utility get by agent 1 after lying on his preferences : \n",
      "83.333\n",
      "\n",
      "Repartition des ressources : \n",
      "Output allocation phase:\n",
      "auctioneer                                  []\t\n",
      "agent  1                             ['r0']\t26\n",
      "agent  2                             ['r1']\t75\n",
      "\n",
      "[(1.014, 'r1')]\n",
      "Resource  r1  will be splitted!\n",
      "Agent  1  gets  0.329  of resource  r1\n",
      "Both agents get utility: 50.346000000000004\n",
      "\n",
      "L'agent 1 est pauvre.\n",
      "L'agent 2 doit donner 0.3288590604026846 de r1 à l'agent 2\n",
      "True utility get by agent 1 after lying on his preferences : \n",
      "83.221\n",
      "\n",
      "Repartition des ressources : \n",
      "Output allocation phase:\n",
      "auctioneer                                  []\t\n",
      "agent  1                             ['r0']\t27\n",
      "agent  2                             ['r1']\t75\n",
      "\n",
      "[(1.027, 'r1')]\n",
      "Resource  r1  will be splitted!\n",
      "Agent  1  gets  0.324  of resource  r1\n",
      "Both agents get utility: 50.652\n",
      "\n",
      "L'agent 1 est pauvre.\n",
      "L'agent 2 doit donner 0.32432432432432434 de r1 à l'agent 2\n",
      "True utility get by agent 1 after lying on his preferences : \n",
      "83.108\n",
      "\n",
      "Repartition des ressources : \n",
      "Output allocation phase:\n",
      "auctioneer                                  []\t\n",
      "agent  1                             ['r0']\t28\n",
      "agent  2                             ['r1']\t75\n",
      "\n",
      "[(1.042, 'r1')]\n",
      "Resource  r1  will be splitted!\n",
      "Agent  1  gets  0.32  of resource  r1\n",
      "Both agents get utility: 51.04\n",
      "\n",
      "L'agent 1 est pauvre.\n",
      "L'agent 2 doit donner 0.3197278911564626 de r1 à l'agent 2\n",
      "True utility get by agent 1 after lying on his preferences : \n",
      "82.993\n",
      "\n",
      "Repartition des ressources : \n",
      "Output allocation phase:\n",
      "auctioneer                                  []\t\n",
      "agent  1                             ['r0']\t29\n",
      "agent  2                             ['r1']\t75\n",
      "\n",
      "[(1.056, 'r1')]\n",
      "Resource  r1  will be splitted!\n",
      "Agent  1  gets  0.315  of resource  r1\n",
      "Both agents get utility: 51.364999999999995\n",
      "\n",
      "L'agent 1 est pauvre.\n",
      "L'agent 2 doit donner 0.3150684931506849 de r1 à l'agent 2\n",
      "True utility get by agent 1 after lying on his preferences : \n",
      "82.877\n",
      "\n",
      "Repartition des ressources : \n",
      "Output allocation phase:\n",
      "auctioneer                                  []\t\n",
      "agent  1                             ['r0']\t30\n",
      "agent  2                             ['r1']\t75\n",
      "\n",
      "[(1.071, 'r1')]\n",
      "Resource  r1  will be splitted!\n",
      "Agent  1  gets  0.31  of resource  r1\n",
      "Both agents get utility: 51.7\n",
      "\n",
      "L'agent 1 est pauvre.\n",
      "L'agent 2 doit donner 0.3103448275862069 de r1 à l'agent 2\n",
      "True utility get by agent 1 after lying on his preferences : \n",
      "82.759\n",
      "\n",
      "Repartition des ressources : \n",
      "Output allocation phase:\n",
      "auctioneer                                  []\t\n",
      "agent  1                             ['r0']\t31\n",
      "agent  2                             ['r1']\t75\n",
      "\n",
      "[(1.087, 'r1')]\n",
      "Resource  r1  will be splitted!\n",
      "Agent  1  gets  0.306  of resource  r1\n",
      "Both agents get utility: 52.114000000000004\n",
      "\n",
      "L'agent 1 est pauvre.\n",
      "L'agent 2 doit donner 0.3055555555555556 de r1 à l'agent 2\n",
      "True utility get by agent 1 after lying on his preferences : \n",
      "82.639\n",
      "\n",
      "Repartition des ressources : \n",
      "Output allocation phase:\n",
      "auctioneer                                  []\t\n",
      "agent  1                             ['r0']\t32\n",
      "agent  2                             ['r1']\t75\n",
      "\n",
      "[(1.103, 'r1')]\n",
      "Resource  r1  will be splitted!\n",
      "Agent  1  gets  0.301  of resource  r1\n",
      "Both agents get utility: 52.468\n",
      "\n",
      "L'agent 1 est pauvre.\n",
      "L'agent 2 doit donner 0.3006993006993007 de r1 à l'agent 2\n",
      "True utility get by agent 1 after lying on his preferences : \n",
      "82.517\n",
      "\n",
      "Repartition des ressources : \n",
      "Output allocation phase:\n",
      "auctioneer                                  []\t\n",
      "agent  1                             ['r0']\t33\n",
      "agent  2                             ['r1']\t75\n",
      "\n",
      "[(1.119, 'r1')]\n",
      "Resource  r1  will be splitted!\n",
      "Agent  1  gets  0.296  of resource  r1\n",
      "Both agents get utility: 52.832\n",
      "\n",
      "L'agent 1 est pauvre.\n",
      "L'agent 2 doit donner 0.29577464788732394 de r1 à l'agent 2\n",
      "True utility get by agent 1 after lying on his preferences : \n",
      "82.394\n",
      "\n",
      "Repartition des ressources : \n",
      "Output allocation phase:\n",
      "auctioneer                                  []\t\n",
      "agent  1                             ['r0']\t34\n",
      "agent  2                             ['r1']\t75\n",
      "\n",
      "[(1.136, 'r1')]\n",
      "Resource  r1  will be splitted!\n",
      "Agent  1  gets  0.291  of resource  r1\n",
      "Both agents get utility: 53.206\n",
      "\n",
      "L'agent 1 est pauvre.\n",
      "L'agent 2 doit donner 0.2907801418439716 de r1 à l'agent 2\n",
      "True utility get by agent 1 after lying on his preferences : \n",
      "82.27\n",
      "\n",
      "Repartition des ressources : \n",
      "Output allocation phase:\n",
      "auctioneer                                  []\t\n",
      "agent  1                             ['r0']\t35\n",
      "agent  2                             ['r1']\t75\n",
      "\n",
      "[(1.154, 'r1')]\n",
      "Resource  r1  will be splitted!\n",
      "Agent  1  gets  0.286  of resource  r1\n",
      "Both agents get utility: 53.59\n",
      "\n",
      "L'agent 1 est pauvre.\n",
      "L'agent 2 doit donner 0.2857142857142857 de r1 à l'agent 2\n",
      "True utility get by agent 1 after lying on his preferences : \n",
      "82.143\n",
      "\n",
      "Repartition des ressources : \n",
      "Output allocation phase:\n",
      "auctioneer                                  []\t\n",
      "agent  1                             ['r0']\t36\n",
      "agent  2                             ['r1']\t75\n",
      "\n",
      "[(1.172, 'r1')]\n",
      "Resource  r1  will be splitted!\n",
      "Agent  1  gets  0.281  of resource  r1\n",
      "Both agents get utility: 53.984\n",
      "\n",
      "L'agent 1 est pauvre.\n",
      "L'agent 2 doit donner 0.2805755395683453 de r1 à l'agent 2\n",
      "True utility get by agent 1 after lying on his preferences : \n",
      "82.014\n",
      "\n",
      "Repartition des ressources : \n",
      "Output allocation phase:\n",
      "auctioneer                                  []\t\n",
      "agent  1                             ['r0']\t37\n",
      "agent  2                             ['r1']\t75\n",
      "\n",
      "[(1.19, 'r1')]\n",
      "Resource  r1  will be splitted!\n",
      "Agent  1  gets  0.275  of resource  r1\n",
      "Both agents get utility: 54.325\n",
      "\n",
      "L'agent 1 est pauvre.\n",
      "L'agent 2 doit donner 0.2753623188405797 de r1 à l'agent 2\n",
      "True utility get by agent 1 after lying on his preferences : \n",
      "81.884\n",
      "\n",
      "Repartition des ressources : \n",
      "Output allocation phase:\n",
      "auctioneer                                  []\t\n",
      "agent  1                             ['r0']\t38\n",
      "agent  2                             ['r1']\t75\n",
      "\n",
      "[(1.21, 'r1')]\n",
      "Resource  r1  will be splitted!\n",
      "Agent  1  gets  0.27  of resource  r1\n",
      "Both agents get utility: 54.74\n",
      "\n",
      "L'agent 1 est pauvre.\n",
      "L'agent 2 doit donner 0.27007299270072993 de r1 à l'agent 2\n",
      "True utility get by agent 1 after lying on his preferences : \n",
      "81.752\n",
      "\n",
      "Repartition des ressources : \n",
      "Output allocation phase:\n",
      "auctioneer                                  []\t\n",
      "agent  1                             ['r0']\t39\n",
      "agent  2                             ['r1']\t75\n",
      "\n",
      "[(1.23, 'r1')]\n",
      "Resource  r1  will be splitted!\n",
      "Agent  1  gets  0.265  of resource  r1\n",
      "Both agents get utility: 55.165\n",
      "\n",
      "L'agent 1 est pauvre.\n",
      "L'agent 2 doit donner 0.2647058823529412 de r1 à l'agent 2\n",
      "True utility get by agent 1 after lying on his preferences : \n",
      "81.618\n",
      "\n",
      "Repartition des ressources : \n",
      "Output allocation phase:\n",
      "auctioneer                                  []\t\n",
      "agent  1                             ['r0']\t40\n",
      "agent  2                             ['r1']\t75\n",
      "\n",
      "[(1.25, 'r1')]\n",
      "Resource  r1  will be splitted!\n",
      "Agent  1  gets  0.259  of resource  r1\n",
      "Both agents get utility: 55.54\n",
      "\n",
      "L'agent 1 est pauvre.\n",
      "L'agent 2 doit donner 0.25925925925925924 de r1 à l'agent 2\n",
      "True utility get by agent 1 after lying on his preferences : \n",
      "81.481\n",
      "\n",
      "Repartition des ressources : \n",
      "Output allocation phase:\n",
      "auctioneer                                  []\t\n",
      "agent  1                             ['r0']\t41\n",
      "agent  2                             ['r1']\t75\n",
      "\n",
      "[(1.271, 'r1')]\n",
      "Resource  r1  will be splitted!\n",
      "Agent  1  gets  0.254  of resource  r1\n",
      "Both agents get utility: 55.986000000000004\n",
      "\n",
      "L'agent 1 est pauvre.\n",
      "L'agent 2 doit donner 0.2537313432835821 de r1 à l'agent 2\n",
      "True utility get by agent 1 after lying on his preferences : \n",
      "81.343\n",
      "\n",
      "Repartition des ressources : \n",
      "Output allocation phase:\n",
      "auctioneer                                  []\t\n",
      "agent  1                             ['r0']\t42\n",
      "agent  2                             ['r1']\t75\n",
      "\n",
      "[(1.293, 'r1')]\n",
      "Resource  r1  will be splitted!\n",
      "Agent  1  gets  0.248  of resource  r1\n",
      "Both agents get utility: 56.384\n",
      "\n",
      "L'agent 1 est pauvre.\n",
      "L'agent 2 doit donner 0.24812030075187969 de r1 à l'agent 2\n",
      "True utility get by agent 1 after lying on his preferences : \n",
      "81.203\n",
      "\n",
      "Repartition des ressources : \n",
      "Output allocation phase:\n",
      "auctioneer                                  []\t\n",
      "agent  1                             ['r0']\t43\n",
      "agent  2                             ['r1']\t75\n",
      "\n",
      "[(1.316, 'r1')]\n",
      "Resource  r1  will be splitted!\n",
      "Agent  1  gets  0.242  of resource  r1\n",
      "Both agents get utility: 56.794\n",
      "\n",
      "L'agent 1 est pauvre.\n",
      "L'agent 2 doit donner 0.24242424242424243 de r1 à l'agent 2\n",
      "True utility get by agent 1 after lying on his preferences : \n",
      "81.061\n",
      "\n",
      "Repartition des ressources : \n",
      "Output allocation phase:\n",
      "auctioneer                                  []\t\n",
      "agent  1                             ['r0']\t44\n",
      "agent  2                             ['r1']\t75\n",
      "\n",
      "[(1.339, 'r1')]\n",
      "Resource  r1  will be splitted!\n",
      "Agent  1  gets  0.237  of resource  r1\n",
      "Both agents get utility: 57.272\n",
      "\n",
      "L'agent 1 est pauvre.\n",
      "L'agent 2 doit donner 0.2366412213740458 de r1 à l'agent 2\n",
      "True utility get by agent 1 after lying on his preferences : \n",
      "80.916\n",
      "\n",
      "Repartition des ressources : \n",
      "Output allocation phase:\n",
      "auctioneer                                  []\t\n",
      "agent  1                             ['r0']\t45\n",
      "agent  2                             ['r1']\t75\n",
      "\n",
      "[(1.364, 'r1')]\n",
      "Resource  r1  will be splitted!\n",
      "Agent  1  gets  0.231  of resource  r1\n",
      "Both agents get utility: 57.705\n",
      "\n",
      "L'agent 1 est pauvre.\n",
      "L'agent 2 doit donner 0.23076923076923078 de r1 à l'agent 2\n",
      "True utility get by agent 1 after lying on his preferences : \n",
      "80.769\n",
      "\n",
      "Repartition des ressources : \n",
      "Output allocation phase:\n",
      "auctioneer                                  []\t\n",
      "agent  1                             ['r0']\t46\n",
      "agent  2                             ['r1']\t75\n",
      "\n",
      "[(1.389, 'r1')]\n",
      "Resource  r1  will be splitted!\n",
      "Agent  1  gets  0.225  of resource  r1\n",
      "Both agents get utility: 58.15\n",
      "\n",
      "L'agent 1 est pauvre.\n",
      "L'agent 2 doit donner 0.2248062015503876 de r1 à l'agent 2\n",
      "True utility get by agent 1 after lying on his preferences : \n",
      "80.62\n",
      "\n",
      "Repartition des ressources : \n",
      "Output allocation phase:\n",
      "auctioneer                                  []\t\n",
      "agent  1                             ['r0']\t47\n",
      "agent  2                             ['r1']\t75\n",
      "\n",
      "[(1.415, 'r1')]\n",
      "Resource  r1  will be splitted!\n",
      "Agent  1  gets  0.219  of resource  r1\n",
      "Both agents get utility: 58.607\n",
      "\n",
      "L'agent 1 est pauvre.\n",
      "L'agent 2 doit donner 0.21875 de r1 à l'agent 2\n",
      "True utility get by agent 1 after lying on his preferences : \n",
      "80.469\n",
      "\n",
      "Repartition des ressources : \n",
      "Output allocation phase:\n",
      "auctioneer                                  []\t\n",
      "agent  1                             ['r0']\t48\n",
      "agent  2                             ['r1']\t75\n",
      "\n",
      "[(1.442, 'r1')]\n",
      "Resource  r1  will be splitted!\n",
      "Agent  1  gets  0.213  of resource  r1\n",
      "Both agents get utility: 59.076\n",
      "\n",
      "L'agent 1 est pauvre.\n",
      "L'agent 2 doit donner 0.2125984251968504 de r1 à l'agent 2\n",
      "True utility get by agent 1 after lying on his preferences : \n",
      "80.315\n",
      "\n",
      "Repartition des ressources : \n",
      "Output allocation phase:\n",
      "auctioneer                                  []\t\n",
      "agent  1                             ['r0']\t49\n",
      "agent  2                             ['r1']\t75\n",
      "\n",
      "[(1.471, 'r1')]\n",
      "Resource  r1  will be splitted!\n",
      "Agent  1  gets  0.206  of resource  r1\n",
      "Both agents get utility: 59.506\n",
      "\n",
      "L'agent 1 est pauvre.\n",
      "L'agent 2 doit donner 0.20634920634920634 de r1 à l'agent 2\n",
      "True utility get by agent 1 after lying on his preferences : \n",
      "80.159\n",
      "\n",
      "Repartition des ressources : \n",
      "Output allocation phase:\n",
      "auctioneer                                  []\t\n",
      "agent  1                             ['r0']\t50\n",
      "agent  2                             ['r1']\t75\n",
      "\n",
      "[(1.5, 'r1')]\n",
      "Resource  r1  will be splitted!\n",
      "Agent  1  gets  0.2  of resource  r1\n",
      "Both agents get utility: 60.0\n",
      "\n",
      "L'agent 1 est pauvre.\n",
      "L'agent 2 doit donner 0.2 de r1 à l'agent 2\n",
      "True utility get by agent 1 after lying on his preferences : \n",
      "80.0\n",
      "\n",
      "Repartition des ressources : \n",
      "Output allocation phase:\n",
      "auctioneer                                  []\t\n",
      "agent  1                             ['r0']\t51\n",
      "agent  2                             ['r1']\t75\n",
      "\n",
      "[(1.531, 'r1')]\n",
      "Resource  r1  will be splitted!\n",
      "Agent  1  gets  0.194  of resource  r1\n",
      "Both agents get utility: 60.506\n",
      "\n",
      "L'agent 1 est pauvre.\n",
      "L'agent 2 doit donner 0.1935483870967742 de r1 à l'agent 2\n",
      "True utility get by agent 1 after lying on his preferences : \n",
      "79.839\n",
      "\n",
      "Repartition des ressources : \n",
      "Output allocation phase:\n",
      "auctioneer                                  []\t\n",
      "agent  1                             ['r0']\t52\n",
      "agent  2                             ['r1']\t75\n",
      "\n",
      "[(1.562, 'r1')]\n",
      "Resource  r1  will be splitted!\n",
      "Agent  1  gets  0.187  of resource  r1\n",
      "Both agents get utility: 60.976\n",
      "\n",
      "L'agent 1 est pauvre.\n",
      "L'agent 2 doit donner 0.18699186991869918 de r1 à l'agent 2\n",
      "True utility get by agent 1 after lying on his preferences : \n",
      "79.675\n",
      "\n",
      "Repartition des ressources : \n",
      "Output allocation phase:\n",
      "auctioneer                                  []\t\n",
      "agent  1                             ['r0']\t53\n",
      "agent  2                             ['r1']\t75\n",
      "\n",
      "[(1.596, 'r1')]\n",
      "Resource  r1  will be splitted!\n",
      "Agent  1  gets  0.18  of resource  r1\n",
      "Both agents get utility: 61.46\n",
      "\n",
      "L'agent 1 est pauvre.\n",
      "L'agent 2 doit donner 0.18032786885245902 de r1 à l'agent 2\n",
      "True utility get by agent 1 after lying on his preferences : \n",
      "79.508\n",
      "\n",
      "Repartition des ressources : \n",
      "Output allocation phase:\n",
      "auctioneer                                  []\t\n",
      "agent  1                             ['r0']\t54\n",
      "agent  2                             ['r1']\t75\n",
      "\n",
      "[(1.63, 'r1')]\n",
      "Resource  r1  will be splitted!\n",
      "Agent  1  gets  0.174  of resource  r1\n",
      "Both agents get utility: 62.004\n",
      "\n",
      "L'agent 1 est pauvre.\n",
      "L'agent 2 doit donner 0.17355371900826447 de r1 à l'agent 2\n",
      "True utility get by agent 1 after lying on his preferences : \n",
      "79.339\n",
      "\n",
      "Repartition des ressources : \n",
      "Output allocation phase:\n",
      "auctioneer                                  []\t\n",
      "agent  1                             ['r0']\t55\n",
      "agent  2                             ['r1']\t75\n",
      "\n",
      "[(1.667, 'r1')]\n",
      "Resource  r1  will be splitted!\n",
      "Agent  1  gets  0.167  of resource  r1\n",
      "Both agents get utility: 62.515\n",
      "\n",
      "L'agent 1 est pauvre.\n",
      "L'agent 2 doit donner 0.16666666666666666 de r1 à l'agent 2\n",
      "True utility get by agent 1 after lying on his preferences : \n",
      "79.167\n",
      "\n",
      "Repartition des ressources : \n",
      "Output allocation phase:\n",
      "auctioneer                                  []\t\n",
      "agent  1                             ['r0']\t56\n",
      "agent  2                             ['r1']\t75\n",
      "\n",
      "[(1.705, 'r1')]\n",
      "Resource  r1  will be splitted!\n",
      "Agent  1  gets  0.16  of resource  r1\n",
      "Both agents get utility: 63.04\n",
      "\n",
      "L'agent 1 est pauvre.\n",
      "L'agent 2 doit donner 0.15966386554621848 de r1 à l'agent 2\n",
      "True utility get by agent 1 after lying on his preferences : \n",
      "78.992\n",
      "\n",
      "Repartition des ressources : \n",
      "Output allocation phase:\n",
      "auctioneer                                  []\t\n",
      "agent  1                             ['r0']\t57\n",
      "agent  2                             ['r1']\t75\n",
      "\n",
      "[(1.744, 'r1')]\n",
      "Resource  r1  will be splitted!\n",
      "Agent  1  gets  0.153  of resource  r1\n",
      "Both agents get utility: 63.579\n",
      "\n",
      "L'agent 1 est pauvre.\n",
      "L'agent 2 doit donner 0.15254237288135594 de r1 à l'agent 2\n",
      "True utility get by agent 1 after lying on his preferences : \n",
      "78.814\n",
      "\n",
      "Repartition des ressources : \n",
      "Output allocation phase:\n",
      "auctioneer                                  []\t\n",
      "agent  1                             ['r0']\t58\n",
      "agent  2                             ['r1']\t75\n",
      "\n",
      "[(1.786, 'r1')]\n",
      "Resource  r1  will be splitted!\n",
      "Agent  1  gets  0.145  of resource  r1\n",
      "Both agents get utility: 64.09\n",
      "\n",
      "L'agent 1 est pauvre.\n",
      "L'agent 2 doit donner 0.1452991452991453 de r1 à l'agent 2\n",
      "True utility get by agent 1 after lying on his preferences : \n",
      "78.632\n",
      "\n",
      "Repartition des ressources : \n",
      "Output allocation phase:\n",
      "auctioneer                                  []\t\n",
      "agent  1                             ['r0']\t59\n",
      "agent  2                             ['r1']\t75\n",
      "\n",
      "[(1.829, 'r1')]\n",
      "Resource  r1  will be splitted!\n",
      "Agent  1  gets  0.138  of resource  r1\n",
      "Both agents get utility: 64.658\n",
      "\n",
      "L'agent 1 est pauvre.\n",
      "L'agent 2 doit donner 0.13793103448275862 de r1 à l'agent 2\n",
      "True utility get by agent 1 after lying on his preferences : \n",
      "78.448\n",
      "\n",
      "Repartition des ressources : \n",
      "Output allocation phase:\n",
      "auctioneer                                  []\t\n",
      "agent  1                             ['r0']\t60\n",
      "agent  2                             ['r1']\t75\n",
      "\n",
      "[(1.875, 'r1')]\n",
      "Resource  r1  will be splitted!\n",
      "Agent  1  gets  0.13  of resource  r1\n",
      "Both agents get utility: 65.2\n",
      "\n",
      "L'agent 1 est pauvre.\n",
      "L'agent 2 doit donner 0.13043478260869565 de r1 à l'agent 2\n",
      "True utility get by agent 1 after lying on his preferences : \n",
      "78.261\n",
      "\n",
      "Repartition des ressources : \n",
      "Output allocation phase:\n",
      "auctioneer                                  []\t\n",
      "agent  1                             ['r0']\t61\n",
      "agent  2                             ['r1']\t75\n",
      "\n",
      "[(1.923, 'r1')]\n",
      "Resource  r1  will be splitted!\n",
      "Agent  1  gets  0.123  of resource  r1\n",
      "Both agents get utility: 65.797\n",
      "\n",
      "L'agent 1 est pauvre.\n",
      "L'agent 2 doit donner 0.12280701754385964 de r1 à l'agent 2\n",
      "True utility get by agent 1 after lying on his preferences : \n",
      "78.07\n",
      "\n",
      "Repartition des ressources : \n",
      "Output allocation phase:\n",
      "auctioneer                                  []\t\n",
      "agent  1                             ['r0']\t62\n",
      "agent  2                             ['r1']\t75\n",
      "\n",
      "[(1.974, 'r1')]\n",
      "Resource  r1  will be splitted!\n",
      "Agent  1  gets  0.115  of resource  r1\n",
      "Both agents get utility: 66.37\n",
      "\n",
      "L'agent 1 est pauvre.\n",
      "L'agent 2 doit donner 0.11504424778761062 de r1 à l'agent 2\n",
      "True utility get by agent 1 after lying on his preferences : \n",
      "77.876\n",
      "\n",
      "Repartition des ressources : \n",
      "Output allocation phase:\n",
      "auctioneer                                  []\t\n",
      "agent  1                             ['r0']\t63\n",
      "agent  2                             ['r1']\t75\n",
      "\n",
      "[(2.027, 'r1')]\n",
      "Resource  r1  will be splitted!\n",
      "Agent  1  gets  0.107  of resource  r1\n",
      "Both agents get utility: 66.959\n",
      "\n",
      "L'agent 1 est pauvre.\n",
      "L'agent 2 doit donner 0.10714285714285714 de r1 à l'agent 2\n",
      "True utility get by agent 1 after lying on his preferences : \n",
      "77.679\n",
      "\n",
      "Repartition des ressources : \n",
      "Output allocation phase:\n",
      "auctioneer                                  []\t\n",
      "agent  1                             ['r0']\t64\n",
      "agent  2                             ['r1']\t75\n",
      "\n",
      "[(2.083, 'r1')]\n",
      "Resource  r1  will be splitted!\n",
      "Agent  1  gets  0.099  of resource  r1\n",
      "Both agents get utility: 67.564\n",
      "\n",
      "L'agent 1 est pauvre.\n",
      "L'agent 2 doit donner 0.0990990990990991 de r1 à l'agent 2\n",
      "True utility get by agent 1 after lying on his preferences : \n",
      "77.477\n",
      "\n",
      "Repartition des ressources : \n",
      "Output allocation phase:\n",
      "auctioneer                                  []\t\n",
      "agent  1                             ['r0']\t65\n",
      "agent  2                             ['r1']\t75\n",
      "\n",
      "[(2.143, 'r1')]\n",
      "Resource  r1  will be splitted!\n",
      "Agent  1  gets  0.091  of resource  r1\n",
      "Both agents get utility: 68.185\n",
      "\n",
      "L'agent 1 est pauvre.\n",
      "L'agent 2 doit donner 0.09090909090909091 de r1 à l'agent 2\n",
      "True utility get by agent 1 after lying on his preferences : \n",
      "77.273\n",
      "\n",
      "Repartition des ressources : \n",
      "Output allocation phase:\n",
      "auctioneer                                  []\t\n",
      "agent  1                             ['r0']\t66\n",
      "agent  2                             ['r1']\t75\n",
      "\n",
      "[(2.206, 'r1')]\n",
      "Resource  r1  will be splitted!\n",
      "Agent  1  gets  0.083  of resource  r1\n",
      "Both agents get utility: 68.822\n",
      "\n",
      "L'agent 1 est pauvre.\n",
      "L'agent 2 doit donner 0.08256880733944955 de r1 à l'agent 2\n",
      "True utility get by agent 1 after lying on his preferences : \n",
      "77.064\n",
      "\n",
      "Repartition des ressources : \n",
      "Output allocation phase:\n",
      "auctioneer                                  []\t\n",
      "agent  1                             ['r0']\t67\n",
      "agent  2                             ['r1']\t75\n",
      "\n",
      "[(2.273, 'r1')]\n",
      "Resource  r1  will be splitted!\n",
      "Agent  1  gets  0.074  of resource  r1\n",
      "Both agents get utility: 69.442\n",
      "\n",
      "L'agent 1 est pauvre.\n",
      "L'agent 2 doit donner 0.07407407407407407 de r1 à l'agent 2\n",
      "True utility get by agent 1 after lying on his preferences : \n",
      "76.852\n",
      "\n",
      "Repartition des ressources : \n",
      "Output allocation phase:\n",
      "auctioneer                                  []\t\n",
      "agent  1                             ['r0']\t68\n",
      "agent  2                             ['r1']\t75\n",
      "\n",
      "[(2.344, 'r1')]\n",
      "Resource  r1  will be splitted!\n",
      "Agent  1  gets  0.065  of resource  r1\n",
      "Both agents get utility: 70.08\n",
      "\n",
      "L'agent 1 est pauvre.\n",
      "L'agent 2 doit donner 0.06542056074766354 de r1 à l'agent 2\n",
      "True utility get by agent 1 after lying on his preferences : \n",
      "76.636\n",
      "\n",
      "Repartition des ressources : \n",
      "Output allocation phase:\n",
      "auctioneer                                  []\t\n",
      "agent  1                             ['r0']\t69\n",
      "agent  2                             ['r1']\t75\n",
      "\n",
      "[(2.419, 'r1')]\n",
      "Resource  r1  will be splitted!\n",
      "Agent  1  gets  0.057  of resource  r1\n",
      "Both agents get utility: 70.767\n",
      "\n",
      "L'agent 1 est pauvre.\n",
      "L'agent 2 doit donner 0.05660377358490566 de r1 à l'agent 2\n",
      "True utility get by agent 1 after lying on his preferences : \n",
      "76.415\n",
      "\n",
      "Repartition des ressources : \n",
      "Output allocation phase:\n",
      "auctioneer                                  []\t\n",
      "agent  1                             ['r0']\t70\n",
      "agent  2                             ['r1']\t75\n",
      "\n",
      "[(2.5, 'r1')]\n",
      "Resource  r1  will be splitted!\n",
      "Agent  1  gets  0.048  of resource  r1\n",
      "Both agents get utility: 71.44\n",
      "\n",
      "L'agent 1 est pauvre.\n",
      "L'agent 2 doit donner 0.047619047619047616 de r1 à l'agent 2\n",
      "True utility get by agent 1 after lying on his preferences : \n",
      "76.19\n",
      "\n",
      "Repartition des ressources : \n",
      "Output allocation phase:\n",
      "auctioneer                                  []\t\n",
      "agent  1                             ['r0']\t71\n",
      "agent  2                             ['r1']\t75\n",
      "\n",
      "[(2.586, 'r1')]\n",
      "Resource  r1  will be splitted!\n",
      "Agent  1  gets  0.038  of resource  r1\n",
      "Both agents get utility: 72.102\n",
      "\n",
      "L'agent 1 est pauvre.\n",
      "L'agent 2 doit donner 0.038461538461538464 de r1 à l'agent 2\n",
      "True utility get by agent 1 after lying on his preferences : \n",
      "75.962\n",
      "\n",
      "Repartition des ressources : \n",
      "Output allocation phase:\n",
      "auctioneer                                  []\t\n",
      "agent  1                             ['r0']\t72\n",
      "agent  2                             ['r1']\t75\n",
      "\n",
      "[(2.679, 'r1')]\n",
      "Resource  r1  will be splitted!\n",
      "Agent  1  gets  0.029  of resource  r1\n",
      "Both agents get utility: 72.812\n",
      "\n",
      "L'agent 1 est pauvre.\n",
      "L'agent 2 doit donner 0.02912621359223301 de r1 à l'agent 2\n",
      "True utility get by agent 1 after lying on his preferences : \n",
      "75.728\n",
      "\n",
      "Repartition des ressources : \n",
      "Output allocation phase:\n",
      "auctioneer                                  []\t\n",
      "agent  1                             ['r0']\t73\n",
      "agent  2                             ['r1']\t75\n",
      "\n",
      "[(2.778, 'r1')]\n",
      "Resource  r1  will be splitted!\n",
      "Agent  1  gets  0.02  of resource  r1\n",
      "Both agents get utility: 73.54\n",
      "\n",
      "L'agent 1 est pauvre.\n",
      "L'agent 2 doit donner 0.0196078431372549 de r1 à l'agent 2\n",
      "True utility get by agent 1 after lying on his preferences : \n",
      "75.49\n",
      "\n",
      "Repartition des ressources : \n",
      "Output allocation phase:\n",
      "auctioneer                                  []\t\n",
      "agent  1                             ['r0']\t74\n",
      "agent  2                             ['r1']\t75\n",
      "\n",
      "[(2.885, 'r1')]\n",
      "Resource  r1  will be splitted!\n",
      "Agent  1  gets  0.01  of resource  r1\n",
      "Both agents get utility: 74.26\n",
      "\n",
      "L'agent 1 est pauvre.\n",
      "L'agent 2 doit donner 0.009900990099009901 de r1 à l'agent 2\n",
      "True utility get by agent 1 after lying on his preferences : \n",
      "75.248\n",
      "\n",
      "Repartition des ressources : \n",
      "Output allocation phase:\n",
      "auctioneer                                  []\t\n",
      "agent  1                             ['r0']\t75\n",
      "agent  2                             ['r1']\t75\n",
      "\n",
      "[(3.0, 'r1')]\n",
      "\n",
      "L'agent 1 est pauvre.\n",
      "L'agent 2 doit donner 0 de r1 à l'agent 2\n",
      "True utility get by agent 1 after lying on his preferences : \n",
      "75\n",
      "\n",
      "Repartition des ressources : \n",
      "Output allocation phase:\n",
      "auctioneer                                  []\t\n",
      "agent  1                             ['r0']\t76\n",
      "agent  2                             ['r1']\t75\n",
      "\n",
      "[(3.04, 'r0')]\n",
      "Resource  r0  will be splitted!\n",
      "Agent  2  gets  0.01  of resource  r0\n",
      "Both agents get utility: 75.25\n",
      "\n",
      "L'agent 2 est pauvre.\n",
      "L'agent 1 doit donner 0.009900990099009901 de r0 à l'agent 2\n",
      "True utility get by agent 1 after lying on his preferences : \n",
      "74.257\n",
      "\n",
      "Repartition des ressources : \n",
      "Output allocation phase:\n",
      "auctioneer                                  []\t\n",
      "agent  1                             ['r0']\t77\n",
      "agent  2                             ['r1']\t75\n",
      "\n",
      "[(3.08, 'r0')]\n",
      "Resource  r0  will be splitted!\n",
      "Agent  2  gets  0.02  of resource  r0\n",
      "Both agents get utility: 75.5\n",
      "\n",
      "L'agent 2 est pauvre.\n",
      "L'agent 1 doit donner 0.0196078431372549 de r0 à l'agent 2\n",
      "True utility get by agent 1 after lying on his preferences : \n",
      "73.529\n",
      "\n",
      "Repartition des ressources : \n",
      "Output allocation phase:\n",
      "auctioneer                                  []\t\n",
      "agent  1                             ['r0']\t78\n",
      "agent  2                             ['r1']\t75\n",
      "\n",
      "[(3.12, 'r0')]\n",
      "Resource  r0  will be splitted!\n",
      "Agent  2  gets  0.029  of resource  r0\n",
      "Both agents get utility: 75.725\n",
      "\n",
      "L'agent 2 est pauvre.\n",
      "L'agent 1 doit donner 0.02912621359223301 de r0 à l'agent 2\n",
      "True utility get by agent 1 after lying on his preferences : \n",
      "72.816\n",
      "\n",
      "Repartition des ressources : \n",
      "Output allocation phase:\n",
      "auctioneer                                  []\t\n",
      "agent  1                             ['r0']\t79\n",
      "agent  2                             ['r1']\t75\n",
      "\n",
      "[(3.16, 'r0')]\n",
      "Resource  r0  will be splitted!\n",
      "Agent  2  gets  0.038  of resource  r0\n",
      "Both agents get utility: 75.95\n",
      "\n",
      "L'agent 2 est pauvre.\n",
      "L'agent 1 doit donner 0.038461538461538464 de r0 à l'agent 2\n",
      "True utility get by agent 1 after lying on his preferences : \n",
      "72.115\n",
      "\n",
      "Repartition des ressources : \n",
      "Output allocation phase:\n",
      "auctioneer                                  []\t\n",
      "agent  1                             ['r0']\t80\n",
      "agent  2                             ['r1']\t75\n",
      "\n",
      "[(3.2, 'r0')]\n",
      "Resource  r0  will be splitted!\n",
      "Agent  2  gets  0.048  of resource  r0\n",
      "Both agents get utility: 76.2\n",
      "\n",
      "L'agent 2 est pauvre.\n",
      "L'agent 1 doit donner 0.047619047619047616 de r0 à l'agent 2\n",
      "True utility get by agent 1 after lying on his preferences : \n",
      "71.429\n",
      "\n",
      "Repartition des ressources : \n",
      "Output allocation phase:\n",
      "auctioneer                                  []\t\n",
      "agent  1                             ['r0']\t81\n",
      "agent  2                             ['r1']\t75\n",
      "\n",
      "[(3.24, 'r0')]\n",
      "Resource  r0  will be splitted!\n",
      "Agent  2  gets  0.057  of resource  r0\n",
      "Both agents get utility: 76.425\n",
      "\n",
      "L'agent 2 est pauvre.\n",
      "L'agent 1 doit donner 0.05660377358490566 de r0 à l'agent 2\n",
      "True utility get by agent 1 after lying on his preferences : \n",
      "70.755\n",
      "\n",
      "Repartition des ressources : \n",
      "Output allocation phase:\n",
      "auctioneer                                  []\t\n",
      "agent  1                             ['r0']\t82\n",
      "agent  2                             ['r1']\t75\n",
      "\n",
      "[(3.28, 'r0')]\n",
      "Resource  r0  will be splitted!\n",
      "Agent  2  gets  0.065  of resource  r0\n",
      "Both agents get utility: 76.625\n",
      "\n",
      "L'agent 2 est pauvre.\n",
      "L'agent 1 doit donner 0.06542056074766354 de r0 à l'agent 2\n",
      "True utility get by agent 1 after lying on his preferences : \n",
      "70.093\n",
      "\n",
      "Repartition des ressources : \n",
      "Output allocation phase:\n",
      "auctioneer                                  []\t\n",
      "agent  1                             ['r0']\t83\n",
      "agent  2                             ['r1']\t75\n",
      "\n",
      "[(3.32, 'r0')]\n",
      "Resource  r0  will be splitted!\n",
      "Agent  2  gets  0.074  of resource  r0\n",
      "Both agents get utility: 76.85\n",
      "\n",
      "L'agent 2 est pauvre.\n",
      "L'agent 1 doit donner 0.07407407407407407 de r0 à l'agent 2\n",
      "True utility get by agent 1 after lying on his preferences : \n",
      "69.444\n",
      "\n",
      "Repartition des ressources : \n",
      "Output allocation phase:\n",
      "auctioneer                                  []\t\n",
      "agent  1                             ['r0']\t84\n",
      "agent  2                             ['r1']\t75\n",
      "\n",
      "[(3.36, 'r0')]\n",
      "Resource  r0  will be splitted!\n",
      "Agent  2  gets  0.083  of resource  r0\n",
      "Both agents get utility: 77.075\n",
      "\n",
      "L'agent 2 est pauvre.\n",
      "L'agent 1 doit donner 0.08256880733944955 de r0 à l'agent 2\n",
      "True utility get by agent 1 after lying on his preferences : \n",
      "68.807\n",
      "\n",
      "Repartition des ressources : \n",
      "Output allocation phase:\n",
      "auctioneer                                  []\t\n",
      "agent  1                             ['r0']\t85\n",
      "agent  2                             ['r1']\t75\n",
      "\n",
      "[(3.4, 'r0')]\n",
      "Resource  r0  will be splitted!\n",
      "Agent  2  gets  0.091  of resource  r0\n",
      "Both agents get utility: 77.275\n",
      "\n",
      "L'agent 2 est pauvre.\n",
      "L'agent 1 doit donner 0.09090909090909091 de r0 à l'agent 2\n",
      "True utility get by agent 1 after lying on his preferences : \n",
      "68.182\n",
      "\n",
      "Repartition des ressources : \n",
      "Output allocation phase:\n",
      "auctioneer                                  []\t\n",
      "agent  1                             ['r0']\t86\n",
      "agent  2                             ['r1']\t75\n",
      "\n",
      "[(3.44, 'r0')]\n",
      "Resource  r0  will be splitted!\n",
      "Agent  2  gets  0.099  of resource  r0\n",
      "Both agents get utility: 77.475\n",
      "\n",
      "L'agent 2 est pauvre.\n",
      "L'agent 1 doit donner 0.0990990990990991 de r0 à l'agent 2\n",
      "True utility get by agent 1 after lying on his preferences : \n",
      "67.568\n",
      "\n",
      "Repartition des ressources : \n"
     ]
    },
    {
     "name": "stdout",
     "output_type": "stream",
     "text": [
      "Output allocation phase:\n",
      "auctioneer                                  []\t\n",
      "agent  1                             ['r0']\t87\n",
      "agent  2                             ['r1']\t75\n",
      "\n",
      "[(3.48, 'r0')]\n",
      "Resource  r0  will be splitted!\n",
      "Agent  2  gets  0.107  of resource  r0\n",
      "Both agents get utility: 77.675\n",
      "\n",
      "L'agent 2 est pauvre.\n",
      "L'agent 1 doit donner 0.10714285714285714 de r0 à l'agent 2\n",
      "True utility get by agent 1 after lying on his preferences : \n",
      "66.964\n",
      "\n",
      "Repartition des ressources : \n",
      "Output allocation phase:\n",
      "auctioneer                                  []\t\n",
      "agent  1                             ['r0']\t88\n",
      "agent  2                             ['r1']\t75\n",
      "\n",
      "[(3.52, 'r0')]\n",
      "Resource  r0  will be splitted!\n",
      "Agent  2  gets  0.115  of resource  r0\n",
      "Both agents get utility: 77.875\n",
      "\n",
      "L'agent 2 est pauvre.\n",
      "L'agent 1 doit donner 0.11504424778761062 de r0 à l'agent 2\n",
      "True utility get by agent 1 after lying on his preferences : \n",
      "66.372\n",
      "\n",
      "Repartition des ressources : \n",
      "Output allocation phase:\n",
      "auctioneer                                  []\t\n",
      "agent  1                             ['r0']\t89\n",
      "agent  2                             ['r1']\t75\n",
      "\n",
      "[(3.56, 'r0')]\n",
      "Resource  r0  will be splitted!\n",
      "Agent  2  gets  0.123  of resource  r0\n",
      "Both agents get utility: 78.075\n",
      "\n",
      "L'agent 2 est pauvre.\n",
      "L'agent 1 doit donner 0.12280701754385964 de r0 à l'agent 2\n",
      "True utility get by agent 1 after lying on his preferences : \n",
      "65.789\n",
      "\n",
      "Repartition des ressources : \n",
      "Output allocation phase:\n",
      "auctioneer                                  []\t\n",
      "agent  1                             ['r0']\t90\n",
      "agent  2                             ['r1']\t75\n",
      "\n",
      "[(3.6, 'r0')]\n",
      "Resource  r0  will be splitted!\n",
      "Agent  2  gets  0.13  of resource  r0\n",
      "Both agents get utility: 78.25\n",
      "\n",
      "L'agent 2 est pauvre.\n",
      "L'agent 1 doit donner 0.13043478260869565 de r0 à l'agent 2\n",
      "True utility get by agent 1 after lying on his preferences : \n",
      "65.217\n",
      "\n",
      "Repartition des ressources : \n",
      "Output allocation phase:\n",
      "auctioneer                                  []\t\n",
      "agent  1                             ['r0']\t91\n",
      "agent  2                             ['r1']\t75\n",
      "\n",
      "[(3.64, 'r0')]\n",
      "Resource  r0  will be splitted!\n",
      "Agent  2  gets  0.138  of resource  r0\n",
      "Both agents get utility: 78.45\n",
      "\n",
      "L'agent 2 est pauvre.\n",
      "L'agent 1 doit donner 0.13793103448275862 de r0 à l'agent 2\n",
      "True utility get by agent 1 after lying on his preferences : \n",
      "64.655\n",
      "\n",
      "Repartition des ressources : \n",
      "Output allocation phase:\n",
      "auctioneer                                  []\t\n",
      "agent  1                             ['r0']\t92\n",
      "agent  2                             ['r1']\t75\n",
      "\n",
      "[(3.68, 'r0')]\n",
      "Resource  r0  will be splitted!\n",
      "Agent  2  gets  0.145  of resource  r0\n",
      "Both agents get utility: 78.625\n",
      "\n",
      "L'agent 2 est pauvre.\n",
      "L'agent 1 doit donner 0.1452991452991453 de r0 à l'agent 2\n",
      "True utility get by agent 1 after lying on his preferences : \n",
      "64.103\n",
      "\n",
      "Repartition des ressources : \n",
      "Output allocation phase:\n",
      "auctioneer                                  []\t\n",
      "agent  1                             ['r0']\t93\n",
      "agent  2                             ['r1']\t75\n",
      "\n",
      "[(3.72, 'r0')]\n",
      "Resource  r0  will be splitted!\n",
      "Agent  2  gets  0.153  of resource  r0\n",
      "Both agents get utility: 78.825\n",
      "\n",
      "L'agent 2 est pauvre.\n",
      "L'agent 1 doit donner 0.15254237288135594 de r0 à l'agent 2\n",
      "True utility get by agent 1 after lying on his preferences : \n",
      "63.559\n",
      "\n",
      "Repartition des ressources : \n",
      "Output allocation phase:\n",
      "auctioneer                                  []\t\n",
      "agent  1                             ['r0']\t94\n",
      "agent  2                             ['r1']\t75\n",
      "\n",
      "[(3.76, 'r0')]\n",
      "Resource  r0  will be splitted!\n",
      "Agent  2  gets  0.16  of resource  r0\n",
      "Both agents get utility: 79.0\n",
      "\n",
      "L'agent 2 est pauvre.\n",
      "L'agent 1 doit donner 0.15966386554621848 de r0 à l'agent 2\n",
      "True utility get by agent 1 after lying on his preferences : \n",
      "63.025\n",
      "\n",
      "Repartition des ressources : \n",
      "Output allocation phase:\n",
      "auctioneer                                  []\t\n",
      "agent  1                             ['r0']\t95\n",
      "agent  2                             ['r1']\t75\n",
      "\n",
      "[(3.8, 'r0')]\n",
      "Resource  r0  will be splitted!\n",
      "Agent  2  gets  0.167  of resource  r0\n",
      "Both agents get utility: 79.175\n",
      "\n",
      "L'agent 2 est pauvre.\n",
      "L'agent 1 doit donner 0.16666666666666666 de r0 à l'agent 2\n",
      "True utility get by agent 1 after lying on his preferences : \n",
      "62.5\n",
      "\n",
      "Repartition des ressources : \n",
      "Output allocation phase:\n",
      "auctioneer                                  []\t\n",
      "agent  1                             ['r0']\t96\n",
      "agent  2                             ['r1']\t75\n",
      "\n",
      "[(3.84, 'r0')]\n",
      "Resource  r0  will be splitted!\n",
      "Agent  2  gets  0.174  of resource  r0\n",
      "Both agents get utility: 79.35\n",
      "\n",
      "L'agent 2 est pauvre.\n",
      "L'agent 1 doit donner 0.17355371900826447 de r0 à l'agent 2\n",
      "True utility get by agent 1 after lying on his preferences : \n",
      "61.983\n",
      "\n",
      "Repartition des ressources : \n",
      "Output allocation phase:\n",
      "auctioneer                                  []\t\n",
      "agent  1                             ['r0']\t97\n",
      "agent  2                             ['r1']\t75\n",
      "\n",
      "[(3.88, 'r0')]\n",
      "Resource  r0  will be splitted!\n",
      "Agent  2  gets  0.18  of resource  r0\n",
      "Both agents get utility: 79.5\n",
      "\n",
      "L'agent 2 est pauvre.\n",
      "L'agent 1 doit donner 0.18032786885245902 de r0 à l'agent 2\n",
      "True utility get by agent 1 after lying on his preferences : \n",
      "61.475\n",
      "\n",
      "Repartition des ressources : \n",
      "Output allocation phase:\n",
      "auctioneer                                  []\t\n",
      "agent  1                             ['r0']\t98\n",
      "agent  2                             ['r1']\t75\n",
      "\n",
      "[(3.92, 'r0')]\n",
      "Resource  r0  will be splitted!\n",
      "Agent  2  gets  0.187  of resource  r0\n",
      "Both agents get utility: 79.675\n",
      "\n",
      "L'agent 2 est pauvre.\n",
      "L'agent 1 doit donner 0.18699186991869918 de r0 à l'agent 2\n",
      "True utility get by agent 1 after lying on his preferences : \n",
      "60.976\n",
      "\n",
      "Repartition des ressources : \n",
      "Output allocation phase:\n",
      "auctioneer                                  []\t\n",
      "agent  1                             ['r0']\t99\n",
      "agent  2                             ['r1']\t75\n",
      "\n",
      "[(3.96, 'r0')]\n",
      "Resource  r0  will be splitted!\n",
      "Agent  2  gets  0.194  of resource  r0\n",
      "Both agents get utility: 79.85\n",
      "\n",
      "L'agent 2 est pauvre.\n",
      "L'agent 1 doit donner 0.1935483870967742 de r0 à l'agent 2\n",
      "True utility get by agent 1 after lying on his preferences : \n",
      "60.484\n",
      "\n",
      "Repartition des ressources : \n",
      "Output allocation phase:\n",
      "auctioneer                                  []\t\n",
      "agent  1                             ['r0']\t100\n",
      "agent  2                             ['r1']\t75\n",
      "\n",
      "[(4.0, 'r0')]\n",
      "Resource  r0  will be splitted!\n",
      "Agent  2  gets  0.2  of resource  r0\n",
      "Both agents get utility: 80.0\n",
      "\n",
      "L'agent 2 est pauvre.\n",
      "L'agent 1 doit donner 0.2 de r0 à l'agent 2\n",
      "True utility get by agent 1 after lying on his preferences : \n",
      "60.0\n",
      "\n"
     ]
    },
    {
     "data": {
      "text/plain": [
       "[<matplotlib.lines.Line2D at 0x7f3b55b97910>]"
      ]
     },
     "execution_count": 17,
     "metadata": {},
     "output_type": "execute_result"
    },
    {
     "data": {
      "image/png": "[encoded data removed]",
      "text/plain": [
       "<Figure size 432x288 with 1 Axes>"
      ]
     },
     "metadata": {
      "needs_background": "light"
     },
     "output_type": "display_data"
    }
   ],
   "source": [
    "\n",
    "y = []\n",
    "for i in range(100):\n",
    "    p2_plot = Problem(3,2,'uniform',centralized=True)\n",
    "    util_ = [{'r0':0,'r1':0},\\\n",
    "            {'r0':i+1,'r1':(100-i-1)},\\\n",
    "            {'r0':25,'r1':75}]\n",
    "    p2_plot.setUtilities(util_)\n",
    "    print(\"Repartition des ressources : \")\n",
    "    u, r, low, part_of_low = protocols.adjustedWinner(p2_plot,verbose=True)\n",
    "    \n",
    "    if low == 2:\n",
    "        #cas où l'agent 1 est riche\n",
    "        print(\"\\nL'agent 2 est pauvre.\")\n",
    "        \n",
    "        \n",
    "        if r=='r0':\n",
    "            print(\"L'agent 1 doit donner \"+str(part_of_low)+\" de \"+r+\" à l'agent 2\")\n",
    "            print(\"True utility get by agent 1 after lying on his preferences : \")\n",
    "            true_utility = round(75*(1-part_of_low), 3)\n",
    "            print(str(true_utility)+\"\\n\")\n",
    "            y.append(true_utility)\n",
    "        \n",
    "        else:\n",
    "            print(\"L'agent 1 doit donner \"+str(part_of_low)+\" de \"+r+\" à l'agent 2\")\n",
    "            print(\"True utility get by agent 1 after lying on his preferences : \")\n",
    "            true_utility = (round(25*(1-part_of_low), 3))\n",
    "            print(str(true_utility)+\"\\n\")\n",
    "            y.append(true_utility)\n",
    "        \n",
    "    else:\n",
    "        #cas où l'agent 1 est pauvre\n",
    "        print(\"\\nL'agent 1 est pauvre.\")\n",
    "\n",
    "        if r=='r0':\n",
    "            print(\"L'agent 2 doit donner \"+str(part_of_low)+\" de \"+r+\" à l'agent 2\")\n",
    "            print(\"True utility get by agent 1 after lying on his preferences : \")\n",
    "            true_utility = total_score(part_of_low)\n",
    "            print(str(true_utility)+\"\\n\")\n",
    "            y.append(true_utility)\n",
    "        \n",
    "        else:\n",
    "\n",
    "            print(\"L'agent 2 doit donner \"+str(part_of_low)+\" de \"+r+\" à l'agent 2\")\n",
    "            print(\"True utility get by agent 1 after lying on his preferences : \")\n",
    "            true_utility = total_score(part_of_low)\n",
    "            print(str(true_utility)+\"\\n\")\n",
    "            y.append(true_utility) \n",
    "    \n",
    "x = np.arange(100)\n",
    "y = np.array(y)\n",
    "xmax = x[np.argmax(y)]\n",
    "ymax = y[np.argmax(y)]\n",
    "plt.vlines(x=xmax, ymin=0, ymax=ymax, color='red')\n",
    "plt.hlines(xmin=0, xmax=xmax, y=ymax, color='red')\n",
    "plt.plot(x,y)"
   ]
  },
  {
   "cell_type": "markdown",
   "metadata": {},
   "source": [
    "## 4. 2 Picking Sequences"
   ]
  },
  {
   "cell_type": "code",
   "execution_count": 18,
   "metadata": {},
   "outputs": [
    {
     "name": "stdout",
     "output_type": "stream",
     "text": [
      "agent 1{'r0': 1, 'r1': 2, 'r2': 5, 'r3': 3, 'r4': 7, 'r5': 2}\n",
      "agent 2{'r0': 2, 'r1': 6, 'r2': 8, 'r3': 1, 'r4': 1, 'r5': 2}\n",
      "agent 3{'r0': 5, 'r1': 4, 'r2': 4, 'r3': 3, 'r4': 2, 'r5': 2}\n",
      "\n",
      "auctioneer ['r0', 'r1', 'r2', 'r3', 'r4', 'r5']\t\n",
      "agent  1                                 []\t 0\n",
      "agent  2                                 []\t 0\n",
      "agent  3                                 []\t 0\n",
      "\n"
     ]
    }
   ],
   "source": [
    "p3 = Problem(4,6,'empty', centralized=True)\n",
    "p3.setUtilities(\n",
    "[{'r0':0,'r1':0,'r2':0,'r3':0,'r4':0,'r5':0},\\\n",
    "{'r0':1,'r1':2,'r2':5,'r3':3,'r4':7,'r5':2},\\\n",
    "{'r0':2,'r1':6,'r2':8,'r3':1,'r4':1,'r5':2},\\\n",
    "{'r0':5,'r1':4,'r2':4,'r3':3,'r4':2,'r5':2}]\n",
    ")\n",
    "print (p3)\n",
    "print (p3.printAllocation())"
   ]
  },
  {
   "cell_type": "markdown",
   "metadata": {
    "collapsed": true
   },
   "source": [
    "Let us apply a picking sequence on our problem p3."
   ]
  },
  {
   "cell_type": "code",
   "execution_count": 19,
   "metadata": {},
   "outputs": [
    {
     "name": "stdout",
     "output_type": "stream",
     "text": [
      "agent  1  picks  r4\n",
      "agent  2  picks  r2\n",
      "agent  3  picks  r0\n",
      "agent  2  picks  r1\n",
      "agent  3  picks  r3\n",
      "agent  1  picks  r5\n"
     ]
    }
   ],
   "source": [
    "s0 = [1,2,3,2,3,1]\n",
    "protocols.pickingSequence(p3,s0,verbose=True)"
   ]
  },
  {
   "cell_type": "code",
   "execution_count": 20,
   "metadata": {},
   "outputs": [
    {
     "name": "stdout",
     "output_type": "stream",
     "text": [
      "auctioneer                                  []\t\n",
      "agent  1                       ['r4', 'r5']\t 9\n",
      "agent  2                       ['r2', 'r1']\t14\n",
      "agent  3                       ['r0', 'r3']\t 8\n",
      "\n"
     ]
    }
   ],
   "source": [
    "print(p3.printAllocation())"
   ]
  },
  {
   "cell_type": "code",
   "execution_count": 21,
   "metadata": {},
   "outputs": [
    {
     "name": "stdout",
     "output_type": "stream",
     "text": [
      "[[0. 0. 0. 0.]\n",
      " [0. 0. 0. 0.]\n",
      " [0. 0. 0. 0.]\n",
      " [0. 0. 0. 0.]]\n"
     ]
    }
   ],
   "source": [
    "print(fairness_measures.envyMatrix(p3))"
   ]
  },
  {
   "cell_type": "markdown",
   "metadata": {},
   "source": [
    "It is also possible to generate standard sequences, like balanced or alternate ones. "
   ]
  },
  {
   "cell_type": "code",
   "execution_count": 22,
   "metadata": {},
   "outputs": [
    {
     "name": "stdout",
     "output_type": "stream",
     "text": [
      "[1, 2, 3, 3, 2, 1]\n"
     ]
    }
   ],
   "source": [
    "s= protocols.generateSequence(3,6,'balanced')\n",
    "print(s)"
   ]
  },
  {
   "cell_type": "markdown",
   "metadata": {},
   "source": [
    "### What is the fairest picking sequence?"
   ]
  },
  {
   "cell_type": "markdown",
   "metadata": {},
   "source": [
    "Let us consider 3 agents and 5 items. Can you propose some sequence which would do well in terms of egalitarian social welfare? You can simulate a number of picking sequences by specifying: the number of experiments, the number of agents (remember to count agent 0 here-to be fixed sorry), the number of objects, the sequence, and the ways utilities are generated.\n",
    "    "
   ]
  },
  {
   "cell_type": "code",
   "execution_count": 23,
   "metadata": {},
   "outputs": [],
   "source": [
    "import simulations_edit\n",
    "import fairness_measures_edit"
   ]
  },
  {
   "cell_type": "code",
   "execution_count": 24,
   "metadata": {},
   "outputs": [
    {
     "name": "stdout",
     "output_type": "stream",
     "text": [
      "agent 1{'r0': 1, 'r1': 2, 'r2': 5, 'r3': 3, 'r4': 7, 'r5': 2}\n",
      "agent 2{'r0': 2, 'r1': 6, 'r2': 8, 'r3': 1, 'r4': 1, 'r5': 2}\n",
      "agent 3{'r0': 5, 'r1': 4, 'r2': 4, 'r3': 3, 'r4': 2, 'r5': 2}\n",
      "\n"
     ]
    }
   ],
   "source": [
    "print(p3)"
   ]
  },
  {
   "cell_type": "markdown",
   "metadata": {},
   "source": [
    "### Sequence which would do well in terms of egalitarian social welfare\n",
    "Maximise the average egalitarian sw"
   ]
  },
  {
   "cell_type": "markdown",
   "metadata": {},
   "source": [
    "#### sequence aléatoire : $[1,1,2,2,3]$"
   ]
  },
  {
   "cell_type": "code",
   "execution_count": 25,
   "metadata": {},
   "outputs": [
    {
     "name": "stdout",
     "output_type": "stream",
     "text": [
      "=-=-=-=-=-=-=-=-=-=-=-=-=-=-=-=-=-=-=-=-=-=-=-=-=-=\n",
      "= Number of experiments:                 1000\n",
      "= Average egalitarian sw:                 2.988\n",
      "= Ratio of proportional:                0.189\n",
      "= Ratio of envy free:                    0.052\n",
      "= Average number of envious:             1.127\n",
      "= Average max envy:                      4.434\n",
      "=-=-=-=-=-=-=-=-=-=-=-=-=-=-=-=-=-=-=-=-=-=-=-=-=-=\n",
      "\n"
     ]
    }
   ],
   "source": [
    "simulations.simulationPickingSequences(1000,4,5,[1,1,2,2,3],'borda',verbose=False) # to start with a bad sequence"
   ]
  },
  {
   "cell_type": "code",
   "execution_count": 30,
   "metadata": {},
   "outputs": [
    {
     "name": "stdout",
     "output_type": "stream",
     "text": [
      "3.11\n"
     ]
    }
   ],
   "source": [
    "a,_ = simulations_edit.simulationPickingSequences(1000,4,5,[1,1,2,2,3],'borda',verbose=False) # to start with a bad sequence\n",
    "print(a)"
   ]
  },
  {
   "cell_type": "markdown",
   "metadata": {},
   "source": [
    "#### Séquence basée sur les 5 premiers objets **non-attribué** d'utilitée maximale :\n",
    "$$u_2(r_2) > u_1(r_4) > u_2(r_1) > u_3(r_0) > u_3(r_3)$$"
   ]
  },
  {
   "cell_type": "code",
   "execution_count": 32,
   "metadata": {
    "scrolled": false
   },
   "outputs": [
    {
     "data": {
      "text/plain": [
       "4.528"
      ]
     },
     "execution_count": 32,
     "metadata": {},
     "output_type": "execute_result"
    }
   ],
   "source": [
    "a, _ = simulations_edit.simulationPickingSequences(1000,4,5,[2,1,2,3,3],'borda',verbose=False) # to start with a bad sequence\n",
    "a"
   ]
  },
  {
   "cell_type": "markdown",
   "metadata": {},
   "source": [
    "Répartition des objets de façon plus équitable car chaque objet est attribué à l'agent pour lequel l'utilité est maximale. On minimise donc l'utilité maximale de chaque bjet attribué aux agents.\\\n",
    "Le bien-être social moyen augmente donc."
   ]
  },
  {
   "cell_type": "markdown",
   "metadata": {},
   "source": [
    "#### Séquence de tirage pseudo équitable : \n",
    "On tente de donner un nombre équitable de tirage à tous les agents."
   ]
  },
  {
   "cell_type": "code",
   "execution_count": 39,
   "metadata": {
    "scrolled": true
   },
   "outputs": [
    {
     "name": "stdout",
     "output_type": "stream",
     "text": [
      "Sequence : [1,2,3,2,1] :  4.518\n",
      "Sequence : [1,2,3,1,2] :  4.517\n"
     ]
    }
   ],
   "source": [
    "print(\"Sequence : [1,2,3,2,1] : \", simulations_edit.simulationPickingSequences(1000,4,5,[1,2,3,2,1],'borda',verbose=False)[0])\n",
    "print(\"Sequence : [1,2,3,1,2] : \", simulations_edit.simulationPickingSequences(1000,4,5,[1,2,3,1,2],'borda',verbose=False)[0])"
   ]
  },
  {
   "cell_type": "code",
   "execution_count": 42,
   "metadata": {
    "scrolled": true
   },
   "outputs": [
    {
     "name": "stdout",
     "output_type": "stream",
     "text": [
      "Sequence : [3,2,1,2,3] :  4.483\n",
      "Sequence : [3,2,1,3,2] :  4.504\n"
     ]
    }
   ],
   "source": [
    "print(\"Sequence : [3,2,1,2,3] : \", simulations_edit.simulationPickingSequences(1000,4,5,[3,2,1,2,3],'borda',verbose=False)[0])\n",
    "print(\"Sequence : [3,2,1,3,2] : \", simulations_edit.simulationPickingSequences(1000,4,5,[3,2,1,3,2],'borda',verbose=False)[0])"
   ]
  },
  {
   "cell_type": "markdown",
   "metadata": {},
   "source": [
    "### And to conclude: \n",
    "For 3 agents, and 6 and 8 objects, could you find the fairest picking sequences in terms of: \n",
    "* egalitarian social welfare\n",
    "* average max envy"
   ]
  },
  {
   "cell_type": "markdown",
   "metadata": {},
   "source": [
    "On cherche à maximiser le bien-être social moyen et à minimiser l'envie maximale."
   ]
  },
  {
   "cell_type": "code",
   "execution_count": 14,
   "metadata": {},
   "outputs": [
    {
     "name": "stdout",
     "output_type": "stream",
     "text": [
      "=-=-=-=-=-=-=-=-=-=-=-=-=-=-=-=-=-=-=-=-=-=-=-=-=-=\n",
      "= Number of experiments:                 1000\n",
      "= Average egalitarian sw:                 7.581\n",
      "= Ratio of proportional:                0.796\n",
      "= Ratio of envy free:                    0.476\n",
      "= Average number of envious:             0.615\n",
      "= Average max envy:                      1.507\n",
      "=-=-=-=-=-=-=-=-=-=-=-=-=-=-=-=-=-=-=-=-=-=-=-=-=-=\n",
      "\n"
     ]
    }
   ],
   "source": [
    "simulations.simulationPickingSequences(1000,4,6,[1,1,3,2,2,3],'borda',verbose=False) # to start with a bad sequence"
   ]
  },
  {
   "cell_type": "code",
   "execution_count": 60,
   "metadata": {},
   "outputs": [
    {
     "name": "stdout",
     "output_type": "stream",
     "text": [
      "Average Egalitarian SW & Average Max Envy\n"
     ]
    },
    {
     "data": {
      "text/plain": [
       "(7.555, 1.537)"
      ]
     },
     "execution_count": 60,
     "metadata": {},
     "output_type": "execute_result"
    }
   ],
   "source": [
    "print(\"Average Egalitarian SW & Average Max Envy\")\n",
    "simulations_edit.simulationPickingSequences(1000,4,6,[1,1,3,2,2,3],'borda',verbose=False) # to start with a bad sequence"
   ]
  },
  {
   "cell_type": "code",
   "execution_count": 57,
   "metadata": {},
   "outputs": [
    {
     "name": "stdout",
     "output_type": "stream",
     "text": [
      "agent 1{'r0': 1, 'r1': 2, 'r2': 5, 'r3': 3, 'r4': 7, 'r5': 2}\n",
      "agent 2{'r0': 2, 'r1': 6, 'r2': 8, 'r3': 1, 'r4': 1, 'r5': 2}\n",
      "agent 3{'r0': 5, 'r1': 4, 'r2': 4, 'r3': 3, 'r4': 2, 'r5': 2}\n",
      "\n"
     ]
    }
   ],
   "source": [
    "print(p3)"
   ]
  },
  {
   "cell_type": "markdown",
   "metadata": {},
   "source": [
    "#### Séquence basée sur les 6 premiers objets **non-attribué** d'utilitée maximale :\n",
    "$$u_2(r_2) > u_1(r_4) > u_2(r_1) > u_3(r_0) > u_3(r_3) > (u_3(r_5) =  u_2(r_5) = u_1(r_5))  $$"
   ]
  },
  {
   "cell_type": "code",
   "execution_count": 61,
   "metadata": {
    "scrolled": false
   },
   "outputs": [
    {
     "name": "stdout",
     "output_type": "stream",
     "text": [
      "Average Egalitarian SW & Average Max Envy\n"
     ]
    },
    {
     "data": {
      "text/plain": [
       "(5.83, 3.527)"
      ]
     },
     "execution_count": 61,
     "metadata": {},
     "output_type": "execute_result"
    }
   ],
   "source": [
    "print(\"Average Egalitarian SW & Average Max Envy\")\n",
    "simulations_edit.simulationPickingSequences(1000,4,6,[2,1,2,3,3,3],'borda',verbose=False)"
   ]
  },
  {
   "cell_type": "code",
   "execution_count": 62,
   "metadata": {
    "scrolled": false
   },
   "outputs": [
    {
     "name": "stdout",
     "output_type": "stream",
     "text": [
      "Average Egalitarian SW & Average Max Envy\n"
     ]
    },
    {
     "data": {
      "text/plain": [
       "(5.82, 4.073)"
      ]
     },
     "execution_count": 62,
     "metadata": {},
     "output_type": "execute_result"
    }
   ],
   "source": [
    "print(\"Average Egalitarian SW & Average Max Envy\")\n",
    "simulations_edit.simulationPickingSequences(1000,4,6,[2,1,2,3,3,2],'borda',verbose=False)"
   ]
  },
  {
   "cell_type": "code",
   "execution_count": 63,
   "metadata": {
    "scrolled": false
   },
   "outputs": [
    {
     "name": "stdout",
     "output_type": "stream",
     "text": [
      "Average Egalitarian SW & Average Max Envy\n"
     ]
    },
    {
     "data": {
      "text/plain": [
       "(7.838, 1.073)"
      ]
     },
     "execution_count": 63,
     "metadata": {},
     "output_type": "execute_result"
    }
   ],
   "source": [
    "print(\"Average Egalitarian SW & Average Max Envy\")\n",
    "simulations_edit.simulationPickingSequences(1000,4,6,[2,1,2,3,3,1],'borda',verbose=False)"
   ]
  },
  {
   "cell_type": "markdown",
   "metadata": {},
   "source": [
    "Sur la dernière séquence $[2,1,2,3,3,1]$, l'envie maximale diminue car l'agent, qui auparavant avait moins d'objet que les 2 autres agents récupère le dernier objet $r_6$. Ainsi les utilités entre agents sont équilibrées et l'envie moyenne des agents diminue aussi."
   ]
  },
  {
   "cell_type": "markdown",
   "metadata": {},
   "source": [
    "#### Séquence de tirage pseudo équitable : \n",
    "On tente de donner un nombre équitable de tirage à tous les agents."
   ]
  },
  {
   "cell_type": "code",
   "execution_count": 64,
   "metadata": {
    "scrolled": false
   },
   "outputs": [
    {
     "data": {
      "text/plain": [
       "(8.01, 0.808)"
      ]
     },
     "execution_count": 64,
     "metadata": {},
     "output_type": "execute_result"
    }
   ],
   "source": [
    "print(\"Average Egalitarian SW & Average Max Envy\")\n",
    "simulations_edit.simulationPickingSequences(1000,4,6,[1,2,3,1,2,3],'borda',verbose=False)"
   ]
  },
  {
   "cell_type": "code",
   "execution_count": 65,
   "metadata": {
    "scrolled": false
   },
   "outputs": [
    {
     "data": {
      "text/plain": [
       "(8.059, 0.731)"
      ]
     },
     "execution_count": 65,
     "metadata": {},
     "output_type": "execute_result"
    }
   ],
   "source": [
    "simulations_edit.simulationPickingSequences(1000,4,6,[1,2,3,2,1,3],'borda',verbose=False)"
   ]
  },
  {
   "cell_type": "code",
   "execution_count": 66,
   "metadata": {
    "scrolled": false
   },
   "outputs": [
    {
     "data": {
      "text/plain": [
       "(8.255, 0.363)"
      ]
     },
     "execution_count": 66,
     "metadata": {},
     "output_type": "execute_result"
    }
   ],
   "source": [
    "simulations_edit.simulationPickingSequences(1000,4,6,[1,2,3,3,2,1],'borda',verbose=False)\n"
   ]
  },
  {
   "cell_type": "markdown",
   "metadata": {},
   "source": [
    "## 4.3 Lipton et al. protocol"
   ]
  },
  {
   "cell_type": "markdown",
   "metadata": {},
   "source": [
    "Let us now test the protocol of Lipton, which allocates items one by one and solves envy cycles when they occur. "
   ]
  },
  {
   "cell_type": "code",
   "execution_count": 15,
   "metadata": {},
   "outputs": [
    {
     "name": "stdout",
     "output_type": "stream",
     "text": [
      "agent 1{'r0': 0, 'r1': 0, 'r2': 0, 'r3': 0, 'r4': 0, 'r5': 0}\n",
      "agent 2{'r0': 0, 'r1': 0, 'r2': 0, 'r3': 0, 'r4': 0, 'r5': 0}\n",
      "agent 3{'r0': 0, 'r1': 0, 'r2': 0, 'r3': 0, 'r4': 0, 'r5': 0}\n",
      "\n",
      "auctioneer ['r0', 'r1', 'r2', 'r3', 'r4', 'r5']\t\n",
      "agent  1                                 []\t 0\n",
      "agent  2                                 []\t 0\n",
      "agent  3                                 []\t 0\n",
      "\n",
      "agent 1{'r0': 1, 'r1': 2, 'r2': 5, 'r3': 3, 'r4': 7, 'r5': 2}\n",
      "agent 2{'r0': 2, 'r1': 6, 'r2': 8, 'r3': 1, 'r4': 1, 'r5': 2}\n",
      "agent 3{'r0': 5, 'r1': 4, 'r2': 4, 'r3': 3, 'r4': 2, 'r5': 2}\n",
      "\n",
      "=-=-=-=-=-=-=-=-=-=-=-=-=-=-=-=-=-=-=-=-=-=-=-=-=-=\n",
      "Running the Lipton et al. protocol\n",
      "=-=-=-=-=-=-=-=-=-=-=-=-=-=-=-=-=-=-=-=-=-=-=-=-=-=\n",
      "auctioneer ['r0', 'r1', 'r2', 'r3', 'r4', 'r5']\t\n",
      "agent  1                                 []\t 0\n",
      "agent  2                                 []\t 0\n",
      "agent  3                                 []\t 0\n",
      "\n",
      "envy graph: {0: [], 1: [], 2: [], 3: []}\n",
      "allocating resource  r0\n",
      "auctioneer      ['r1', 'r2', 'r3', 'r4', 'r5']\t\n",
      "agent  1                             ['r0']\t 1\n",
      "agent  2                                 []\t 0\n",
      "agent  3                                 []\t 0\n",
      "\n",
      "envy graph: {0: [], 1: [], 2: [1], 3: [1]}\n",
      "allocating resource  r1\n",
      "auctioneer            ['r2', 'r3', 'r4', 'r5']\t\n",
      "agent  1                             ['r0']\t 1\n",
      "agent  2                             ['r1']\t 6\n",
      "agent  3                                 []\t 0\n",
      "\n",
      "envy graph: {0: [], 1: [2], 2: [], 3: [1, 2]}\n",
      "allocating resource  r2\n",
      "auctioneer                  ['r3', 'r4', 'r5']\t\n",
      "agent  1                             ['r0']\t 1\n",
      "agent  2                             ['r1']\t 6\n",
      "agent  3                             ['r2']\t 4\n",
      "\n",
      "envy graph: {0: [], 1: [2, 3], 2: [3], 3: [1]}\n",
      "solving the cycle: []\n",
      "auctioneer                  ['r3', 'r4', 'r5']\t\n",
      "agent  1                             ['r1']\t 2\n",
      "agent  2                             ['r2']\t 8\n",
      "agent  3                             ['r0']\t 5\n",
      "\n",
      "envy graph: {0: [], 1: [2], 2: [], 3: []}\n",
      "allocating resource  r3\n",
      "auctioneer                        ['r4', 'r5']\t\n",
      "agent  1                       ['r1', 'r3']\t 5\n",
      "agent  2                             ['r2']\t 8\n",
      "agent  3                             ['r0']\t 5\n",
      "\n",
      "envy graph: {0: [], 1: [], 2: [], 3: [1]}\n",
      "allocating resource  r4\n",
      "auctioneer                              ['r5']\t\n",
      "agent  1                       ['r1', 'r3']\t 5\n",
      "agent  2                       ['r2', 'r4']\t 9\n",
      "agent  3                             ['r0']\t 5\n",
      "\n",
      "envy graph: {0: [], 1: [2], 2: [], 3: [1, 2]}\n",
      "allocating resource  r5\n",
      "envy graph: {0: [], 1: [2], 2: [], 3: []}\n",
      "Final allocation:\n",
      "auctioneer                                  []\t\n",
      "agent  1                       ['r1', 'r3']\t 5\n",
      "agent  2                       ['r2', 'r4']\t 9\n",
      "agent  3                       ['r0', 'r5']\t 7\n",
      "\n"
     ]
    }
   ],
   "source": [
    "p4 = Problem(4,6,'empty','centralized')\n",
    "print(p4)\n",
    "print(p4.printAllocation())\n",
    "p4.setUtilities(\n",
    "[{'r0':0,'r1':0,'r2':0,'r3':0,'r4':0,'r5':0},\\\n",
    "{'r0':1,'r1':2,'r2':5,'r3':3,'r4':7,'r5':2},\\\n",
    "{'r0':2,'r1':6,'r2':8,'r3':1,'r4':1,'r5':2},\\\n",
    "{'r0':5,'r1':4,'r2':4,'r3':3,'r4':2,'r5':2}]\n",
    ")\n",
    "print(p4)\n",
    "\n",
    "protocols.lipton(p4)"
   ]
  },
  {
   "cell_type": "markdown",
   "metadata": {},
   "source": [
    "## 4.4 Local deals"
   ]
  },
  {
   "cell_type": "markdown",
   "metadata": {},
   "source": [
    "Finally, let us play a bit with local exchanges. For this, we will need to create a decentralized MARA problem. Items are intially allocated at random among agents. Here, utilities are Borda. "
   ]
  },
  {
   "cell_type": "code",
   "execution_count": 16,
   "metadata": {},
   "outputs": [
    {
     "name": "stdout",
     "output_type": "stream",
     "text": [
      "agent 0{'r0': 4, 'r1': 5, 'r2': 2, 'r3': 6, 'r4': 1, 'r5': 3}\n",
      "agent 1{'r0': 6, 'r1': 2, 'r2': 5, 'r3': 4, 'r4': 3, 'r5': 1}\n",
      "agent 2{'r0': 5, 'r1': 6, 'r2': 1, 'r3': 4, 'r4': 2, 'r5': 3}\n",
      "agent 3{'r0': 5, 'r1': 2, 'r2': 4, 'r3': 1, 'r4': 3, 'r5': 6}\n",
      "\n",
      "=-=-=-=-=-=-=-=-=-=-=-=-=-=-=-=-=-=-=-=-=-=-=-=-=-=\n",
      "agent  0                             ['r4']\t 1\n",
      "agent  1                             ['r1']\t 2\n",
      "agent  2                       ['r2', 'r3']\t 5\n",
      "agent  3                       ['r0', 'r5']\t11\n",
      "\n"
     ]
    }
   ],
   "source": [
    "p5 = Problem(4,6,'borda',centralized=False)\n",
    "print(p5)\n",
    "print(p5.printAllocation())\n"
   ]
  },
  {
   "cell_type": "markdown",
   "metadata": {},
   "source": [
    "Can you spot which agents could perform mutually beneficial deals? "
   ]
  },
  {
   "cell_type": "code",
   "execution_count": 17,
   "metadata": {},
   "outputs": [
    {
     "name": "stdout",
     "output_type": "stream",
     "text": [
      "agent  0  meets agent  1\n",
      "deal between  0  and  1 for  r4  and  r1\n",
      "=-=-=-=-=-=-=-=-=-=-=-=-=-=-=-=-=-=-=-=-=-=-=-=-=-=\n",
      "agent  0                             ['r1']\t 5\n",
      "agent  1                             ['r4']\t 3\n",
      "agent  2                       ['r2', 'r3']\t 5\n",
      "agent  3                       ['r0', 'r5']\t11\n",
      "\n",
      "agent  0  meets agent  1\n",
      "agent  0  meets agent  3\n",
      "agent  1  meets agent  2\n",
      "deal between  1  and  2 for  r4  and  r2\n",
      "=-=-=-=-=-=-=-=-=-=-=-=-=-=-=-=-=-=-=-=-=-=-=-=-=-=\n",
      "agent  0                             ['r1']\t 5\n",
      "agent  1                             ['r2']\t 5\n",
      "agent  2                       ['r3', 'r4']\t 6\n",
      "agent  3                       ['r0', 'r5']\t11\n",
      "\n",
      "agent  1  meets agent  2\n",
      "agent  1  meets agent  3\n",
      "agent  0  meets agent  1\n",
      "agent  0  meets agent  3\n",
      "agent  2  meets agent  3\n",
      "agent  0  meets agent  2\n",
      "deal between  0  and  2 for  r1  and  r3\n",
      "=-=-=-=-=-=-=-=-=-=-=-=-=-=-=-=-=-=-=-=-=-=-=-=-=-=\n",
      "agent  0                             ['r3']\t 6\n",
      "agent  1                             ['r2']\t 5\n",
      "agent  2                       ['r4', 'r1']\t 8\n",
      "agent  3                       ['r0', 'r5']\t11\n",
      "\n",
      "agent  2  meets agent  3\n",
      "agent  0  meets agent  3\n",
      "agent  1  meets agent  3\n",
      "agent  0  meets agent  1\n",
      "agent  1  meets agent  2\n",
      "agent  0  meets agent  2\n",
      "End of dynamics. No more deal possible.\n"
     ]
    }
   ],
   "source": [
    "protocols.randomDynamics(p5,True)"
   ]
  },
  {
   "cell_type": "markdown",
   "metadata": {},
   "source": [
    "Let us check the envy of the final allocation. "
   ]
  },
  {
   "cell_type": "code",
   "execution_count": 20,
   "metadata": {},
   "outputs": [
    {
     "name": "stdout",
     "output_type": "stream",
     "text": [
      "{0: [3], 1: [3], 2: [], 3: []}\n"
     ]
    }
   ],
   "source": [
    "m = fairness_measures.envyMatrix(p5)\n",
    "g = fairness_measures.buildEnvyGraph(m)\n",
    "print (g)"
   ]
  },
  {
   "cell_type": "markdown",
   "metadata": {},
   "source": [
    "### Could you find fairer dynamics?"
   ]
  },
  {
   "cell_type": "markdown",
   "metadata": {},
   "source": [
    "As it stands, agents just meet randomly (a given pair is picked uniformly among the possible ones). \n",
    "Could you conceive a fairer dynamics and test it? "
   ]
  },
  {
   "cell_type": "markdown",
   "metadata": {
    "collapsed": true
   },
   "source": [
    "### References"
   ]
  },
  {
   "cell_type": "markdown",
   "metadata": {},
   "source": [
    "* The discussion and example about Adjusted Winner Manipulation is taken from a video by Eric Pacuit: \n",
    "https://www.youtube.com/watch?v=RtcnSXL69NQ\n",
    "\n",
    "* See (Bouveret and Lang, IJCAI-11) for more details about picking sequences. "
   ]
  },
  {
   "cell_type": "markdown",
   "metadata": {
    "collapsed": true
   },
   "source": [
    "Notebook last updated 2020-01-06"
   ]
  },
  {
   "cell_type": "code",
   "execution_count": null,
   "metadata": {},
   "outputs": [],
   "source": []
  }
 ],
 "metadata": {
  "anaconda-cloud": {},
  "kernelspec": {
   "display_name": "Python 3",
   "language": "python",
   "name": "python3"
  },
  "language_info": {
   "codemirror_mode": {
    "name": "ipython",
    "version": 3
   },
   "file_extension": ".py",
   "mimetype": "text/x-python",
   "name": "python",
   "nbconvert_exporter": "python",
   "pygments_lexer": "ipython3",
   "version": "3.8.10"
  }
 },
 "nbformat": 4,
 "nbformat_minor": 2
}
